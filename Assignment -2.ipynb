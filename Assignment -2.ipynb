{
 "cells": [
  {
   "cell_type": "markdown",
   "id": "c11461a7",
   "metadata": {},
   "source": [
    "Q1 program to reverse a string."
   ]
  },
  {
   "cell_type": "code",
   "execution_count": 299,
   "id": "e38441c4-2519-428d-93a3-cf7e7859b5c0",
   "metadata": {},
   "outputs": [
    {
     "name": "stdout",
     "output_type": "stream",
     "text": [
      "The reverse of given string is:\n",
      " ytselec\n"
     ]
    }
   ],
   "source": [
    "A = str(input(\"Enter the string:\"))\n",
    "B = print(\"The reverse of given string is:\\n\", A[::-1])"
   ]
  },
  {
   "cell_type": "markdown",
   "id": "d7ff8fec",
   "metadata": {},
   "source": [
    "Q2 Check if a string is a palindrome."
   ]
  },
  {
   "cell_type": "code",
   "execution_count": 300,
   "id": "20af1ee6-64d9-4a99-ba85-6fac4d5be5e2",
   "metadata": {},
   "outputs": [
    {
     "name": "stdout",
     "output_type": "stream",
     "text": [
      "The given string is palindrome\n"
     ]
    }
   ],
   "source": [
    "A = str(input(\"Enter the string\"))\n",
    "B = A[::-1]\n",
    "if A == B:\n",
    "    print(\"The given string is palindrome\")\n",
    "else:\n",
    "    print(\"The given statement is not palindrome\")"
   ]
  },
  {
   "cell_type": "markdown",
   "id": "cc2f7605",
   "metadata": {},
   "source": [
    "Q3 Convert a string to uppercase."
   ]
  },
  {
   "cell_type": "code",
   "execution_count": 301,
   "id": "98c8bba0-8021-4c8a-a073-d05a2125f0b0",
   "metadata": {},
   "outputs": [
    {
     "name": "stdout",
     "output_type": "stream",
     "text": [
      "Before converting to uppercase: celesty\n",
      "After converting to uppercase: CELESTY\n"
     ]
    }
   ],
   "source": [
    "A = str(input(\"Enter the string\"))\n",
    "print(\"Before converting to uppercase:\", A)\n",
    "print(\"After converting to uppercase:\", str.upper(A))"
   ]
  },
  {
   "cell_type": "markdown",
   "id": "e590b90c",
   "metadata": {},
   "source": [
    "Q4 Convert a string to lowercase."
   ]
  },
  {
   "cell_type": "code",
   "execution_count": 302,
   "id": "dca2fec1-92aa-43cc-9ab9-7e773c6627d9",
   "metadata": {},
   "outputs": [
    {
     "name": "stdout",
     "output_type": "stream",
     "text": [
      "Before converting to lowercase: CELESTY\n",
      "After converting to lowercase: celesty\n"
     ]
    }
   ],
   "source": [
    "C = str(input(\"Enter the string\"))\n",
    "print(\"Before converting to lowercase:\", C)\n",
    "print(\"After converting to lowercase:\", str.lower(C))"
   ]
  },
  {
   "cell_type": "markdown",
   "id": "1283e182",
   "metadata": {},
   "source": [
    " Q5 Count the number of vowels in a string."
   ]
  },
  {
   "cell_type": "code",
   "execution_count": 303,
   "id": "5be0a1f7-9dda-4408-bd93-ce99fedda9e9",
   "metadata": {},
   "outputs": [
    {
     "name": "stdout",
     "output_type": "stream",
     "text": [
      "The count of vowels in a string is: 1\n"
     ]
    }
   ],
   "source": [
    "B = str(input('Enter the string'))\n",
    "B = str(input(\"Enter the string\"))\n",
    "C = 0\n",
    "for i in B:\n",
    "    if (\n",
    "        i == \"A\"\n",
    "        or i == \"E\"\n",
    "        or i == \"I\"\n",
    "        or i == \"O\"\n",
    "        or i == \"U\"\n",
    "        or i == \"a\"\n",
    "        or i == \"e\"\n",
    "        or i == \"i\"\n",
    "        or i == \"o\"\n",
    "        or i == \"u\"\n",
    "    ):\n",
    "        C += 1\n",
    "print(\"The count of vowels in a string is:\", C)"
   ]
  },
  {
   "cell_type": "markdown",
   "id": "cfb7f2b3",
   "metadata": {},
   "source": [
    "Q6) Count the number of consonants in a string."
   ]
  },
  {
   "cell_type": "code",
   "execution_count": 304,
   "id": "aed49d73-9d2d-4de2-b153-00f332b8ba7e",
   "metadata": {},
   "outputs": [
    {
     "name": "stdout",
     "output_type": "stream",
     "text": [
      "The number of consonant in given string is: 11\n"
     ]
    }
   ],
   "source": [
    "A = str(input(\"Enter the string\"))\n",
    "consonant = 0\n",
    "B = str.lower(A)\n",
    "for i in range(0, len(B)):\n",
    "    if B[i] not in (\"a\", \"e\", \"i\", \"o\", \"u\"):\n",
    "        consonant = consonant + 1\n",
    "print(\"The number of consonant in given string is:\", consonant)"
   ]
  },
  {
   "cell_type": "markdown",
   "id": "53b68897",
   "metadata": {},
   "source": [
    "Q7) Remove all whitespaces from a string."
   ]
  },
  {
   "cell_type": "code",
   "execution_count": 305,
   "id": "3159373e-e8d1-471e-b785-30be761bae3e",
   "metadata": {},
   "outputs": [
    {
     "name": "stdout",
     "output_type": "stream",
     "text": [
      "Before removing whitespaces: my name is celesty\n",
      "After removing whitespaces:  mynameiscelesty\n"
     ]
    }
   ],
   "source": [
    "user_input = input(\"Enter the string\")\n",
    "B = \" \"\n",
    "for i in user_input:\n",
    "    if not i.isspace():\n",
    "        B += i\n",
    "print(\"Before removing whitespaces:\", user_input)\n",
    "print(\"After removing whitespaces:\", B)"
   ]
  },
  {
   "cell_type": "markdown",
   "id": "d3c413ad",
   "metadata": {},
   "source": [
    "Q8) Length of a string without using the `len()` function."
   ]
  },
  {
   "cell_type": "code",
   "execution_count": 306,
   "id": "d8bf7490-1c82-4c38-ae93-a3754f719443",
   "metadata": {},
   "outputs": [
    {
     "name": "stdout",
     "output_type": "stream",
     "text": [
      "The length of given string is: 22\n"
     ]
    }
   ],
   "source": [
    "A = input(\"Enter the string:\")\n",
    "count = 0\n",
    "for i in A:\n",
    "    count = count + 1\n",
    "print(\"The length of given string is:\", count)"
   ]
  },
  {
   "cell_type": "markdown",
   "id": "89e55f7e",
   "metadata": {},
   "source": [
    " Q9) Check if a string contains a specific word."
   ]
  },
  {
   "cell_type": "code",
   "execution_count": 224,
   "id": "0316d47a-ff31-44ce-83f3-5ff021b9049d",
   "metadata": {},
   "outputs": [
    {
     "name": "stdout",
     "output_type": "stream",
     "text": [
      "'good' is not present in given string\n"
     ]
    }
   ],
   "source": [
    "A = input(\"Enter the string:\")\n",
    "if \"good\" in A:\n",
    "    print(\"'good' is present in given string\")\n",
    "else:\n",
    "    print(\"'good' is not present in given string\")"
   ]
  },
  {
   "cell_type": "markdown",
   "id": "f62df514",
   "metadata": {},
   "source": [
    "Q10) Replace a word in a string with another word"
   ]
  },
  {
   "cell_type": "code",
   "execution_count": 225,
   "id": "09818ab8-82dd-4726-8e72-f577b28ce074",
   "metadata": {},
   "outputs": [
    {
     "name": "stdout",
     "output_type": "stream",
     "text": [
      "Before replacing the word:\n",
      " Python is great programming language\n",
      "after replacing the word:\n",
      " java is great programming language\n"
     ]
    }
   ],
   "source": [
    "A = \"Python is great programming language\"\n",
    "print(\"Before replacing the word:\\n\", A)\n",
    "print(\"after replacing the word:\\n\", A.replace(\"Python\", \"java\"))"
   ]
  },
  {
   "cell_type": "markdown",
   "id": "b79df5ac",
   "metadata": {},
   "source": [
    "Q11) Count the occurrences of a word in a string."
   ]
  },
  {
   "cell_type": "code",
   "execution_count": 226,
   "id": "9b310b38-f491-4f06-a6f8-3c57e36014d1",
   "metadata": {},
   "outputs": [
    {
     "name": "stdout",
     "output_type": "stream",
     "text": [
      "The number of occurance of 'anger' 2\n"
     ]
    }
   ],
   "source": [
    "A = \"Fear leads to anger;anger leads to hatred\"\n",
    "print(\"The number of occurance of 'anger'\", A.count(\"anger\"))"
   ]
  },
  {
   "cell_type": "markdown",
   "id": "90d7a899",
   "metadata": {},
   "source": [
    "Q12) The first occurrence of a word in a string."
   ]
  },
  {
   "cell_type": "code",
   "execution_count": 227,
   "id": "437825a7-8bab-49a9-9d29-3df237de710c",
   "metadata": {},
   "outputs": [
    {
     "name": "stdout",
     "output_type": "stream",
     "text": [
      "first occurance of python is : 0\n"
     ]
    }
   ],
   "source": [
    "A = \"Python\"\n",
    "print(\"first occurance of python is :\", A.find(\"P\"))"
   ]
  },
  {
   "cell_type": "markdown",
   "id": "4b93cec6",
   "metadata": {},
   "source": [
    "Q13) Find the last occurrence of a word in a string"
   ]
  },
  {
   "cell_type": "code",
   "execution_count": 228,
   "id": "b2ee4b3a-dd76-464e-8f63-bc68737ae907",
   "metadata": {},
   "outputs": [
    {
     "name": "stdout",
     "output_type": "stream",
     "text": [
      "Last occurence of python: 5\n"
     ]
    }
   ],
   "source": [
    "A = \"Python\"\n",
    "print(\"Last occurence of python:\", A.find(\"n\"))"
   ]
  },
  {
   "cell_type": "markdown",
   "id": "303464e6",
   "metadata": {},
   "source": [
    "Q14) Split a string into a list of words."
   ]
  },
  {
   "cell_type": "code",
   "execution_count": 229,
   "id": "0acb2ead-5583-4775-b1de-b1312e7f5e0d",
   "metadata": {},
   "outputs": [
    {
     "name": "stdout",
     "output_type": "stream",
     "text": [
      "['Welcome', 'to', 'pwskills', 'lab']\n"
     ]
    }
   ],
   "source": [
    "string = \"Welcome to pwskills lab\"\n",
    "new_string = string.split()\n",
    "print(new_string)"
   ]
  },
  {
   "cell_type": "markdown",
   "id": "0672dcc4",
   "metadata": {},
   "source": [
    "Q15) Join a list of words into a string."
   ]
  },
  {
   "cell_type": "code",
   "execution_count": 230,
   "id": "8c182428-eed0-4587-bf7b-a679799797b0",
   "metadata": {},
   "outputs": [
    {
     "name": "stdout",
     "output_type": "stream",
     "text": [
      "After joining the words: pwskills\n"
     ]
    }
   ],
   "source": [
    "A = \"pw\", \"skills\"\n",
    "B = \"\".join(A)\n",
    "print(\"After joining the words:\", B)"
   ]
  },
  {
   "cell_type": "markdown",
   "id": "490c4d19",
   "metadata": {},
   "source": [
    " Q16) Convert a string where words are separated by spaces to one where words are separated by underscores."
   ]
  },
  {
   "cell_type": "code",
   "execution_count": 231,
   "id": "164ba3be-34fb-4a20-a13f-3be7801fa4d5",
   "metadata": {},
   "outputs": [
    {
     "name": "stdout",
     "output_type": "stream",
     "text": [
      "string with spaces: Banglore is beautiful city which one can visit\n",
      "string with underscore: Banglore_is_beautiful_city_which_one_can_visit\n"
     ]
    }
   ],
   "source": [
    "A = \"Banglore is beautiful city which one can visit\"\n",
    "print(\"string with spaces:\", A)\n",
    "print(\"string with underscore:\", A.replace(\" \", \"_\"))"
   ]
  },
  {
   "cell_type": "markdown",
   "id": "5d141df4",
   "metadata": {},
   "source": [
    "Q17) Check if a string starts with a specific word or phrase."
   ]
  },
  {
   "cell_type": "code",
   "execution_count": 232,
   "id": "ef579da2-b8c9-42e9-9f02-0a1f1ee6dd4d",
   "metadata": {},
   "outputs": [
    {
     "name": "stdout",
     "output_type": "stream",
     "text": [
      "False True True\n"
     ]
    }
   ],
   "source": [
    "text = \"Python is a trending computer language\"\n",
    "result = text.startswith(\"is a trending\")\n",
    "result1 = text.startswith(\"Python is\")\n",
    "result2 = text.startswith(\"Python is a trending computer language\")\n",
    "print(result, result1, result2)"
   ]
  },
  {
   "cell_type": "markdown",
   "id": "0b5004e5",
   "metadata": {},
   "source": [
    " Q18) Check if a string ends with a specific word or phrase"
   ]
  },
  {
   "cell_type": "code",
   "execution_count": 233,
   "id": "d5226eb0-eb96-4c83-9b7e-da3780becef2",
   "metadata": {},
   "outputs": [
    {
     "name": "stdout",
     "output_type": "stream",
     "text": [
      "True False\n"
     ]
    }
   ],
   "source": [
    "text = \"Data science is very popular course\"\n",
    "result = text.endswith(\" course\")\n",
    "result1 = text.endswith(\"Data science\")\n",
    "print(result, result1)"
   ]
  },
  {
   "cell_type": "markdown",
   "id": "44da0e59",
   "metadata": {},
   "source": [
    "Q19) Convert a string to title case"
   ]
  },
  {
   "cell_type": "code",
   "execution_count": 234,
   "id": "9fb84458-70b8-41b0-9fb3-aa97670e362b",
   "metadata": {},
   "outputs": [
    {
     "name": "stdout",
     "output_type": "stream",
     "text": [
      "Before converting to title case: the alchemist is a great book\n",
      "After convering into title case: The Alchemist Is A Great Book\n"
     ]
    }
   ],
   "source": [
    "string = \"the alchemist is a great book\"\n",
    "print(\"Before converting to title case:\", string)\n",
    "print(\"After convering into title case:\", string.title())"
   ]
  },
  {
   "cell_type": "markdown",
   "id": "b43de42a",
   "metadata": {},
   "source": [
    " Q20) Find the longest word in a string."
   ]
  },
  {
   "cell_type": "code",
   "execution_count": 298,
   "id": "d1f1f31a-dd9b-44e9-933b-17bb019e7029",
   "metadata": {},
   "outputs": [
    {
     "name": "stdout",
     "output_type": "stream",
     "text": [
      "The longest word in given string is : language\n"
     ]
    }
   ],
   "source": [
    "string = input(\"Enter the string\")\n",
    "text = string.split()\n",
    "word = max(text, key=len)\n",
    "print(\"The longest word in given string is :\", word)"
   ]
  },
  {
   "cell_type": "markdown",
   "id": "36b59a7e",
   "metadata": {},
   "source": [
    "Q21) Find the shortest word in a string."
   ]
  },
  {
   "cell_type": "code",
   "execution_count": 297,
   "id": "35ae2b54-af1e-47e2-98a7-2fc0f26f8872",
   "metadata": {},
   "outputs": [
    {
     "name": "stdout",
     "output_type": "stream",
     "text": [
      "The shortest word in given string is: day\n"
     ]
    }
   ],
   "source": [
    "A = input(\"Enter the string\")\n",
    "B = A.split()\n",
    "C = min(B, key=len)\n",
    "print(\"The shortest word in given string is:\", C)"
   ]
  },
  {
   "cell_type": "markdown",
   "id": "73594416",
   "metadata": {},
   "source": [
    "Q22) Reverse the order of words in a string."
   ]
  },
  {
   "cell_type": "code",
   "execution_count": 296,
   "id": "648c0ce8-d9c4-4348-ae05-a91acb8a4924",
   "metadata": {},
   "outputs": [
    {
     "name": "stdout",
     "output_type": "stream",
     "text": [
      "view to beautiful very is rise Sun\n"
     ]
    }
   ],
   "source": [
    "A = \"Sun rise is very beautiful to view\"\n",
    "B = A.split()[::-1]\n",
    "C = []\n",
    "for i in B:\n",
    "    C.append(i)\n",
    "print(\" \".join(C))"
   ]
  },
  {
   "cell_type": "markdown",
   "id": "7d090536",
   "metadata": {},
   "source": [
    "Q23) Check if a string is alphanumeric."
   ]
  },
  {
   "cell_type": "code",
   "execution_count": 295,
   "id": "b6d38d22-0a65-4b7d-8250-4b69f35b3b8b",
   "metadata": {},
   "outputs": [
    {
     "name": "stdout",
     "output_type": "stream",
     "text": [
      "The give string is alphanumeric\n"
     ]
    }
   ],
   "source": [
    "string = input(\"Enter the string\")\n",
    "if string.isalnum():\n",
    "    print(\"The give string is alphanumeric\")\n",
    "else:\n",
    "    print(\"The given string is not alphanumeric\")"
   ]
  },
  {
   "cell_type": "markdown",
   "id": "f2512d9a",
   "metadata": {},
   "source": [
    "Q24) Extract all digits from a string."
   ]
  },
  {
   "cell_type": "code",
   "execution_count": 294,
   "id": "761d7bbc-5481-4b3b-9b34-c8eea531ddcc",
   "metadata": {},
   "outputs": [
    {
     "name": "stdout",
     "output_type": "stream",
     "text": [
      "There are 400 students in Data science course\n",
      "Extracted digit from string is: 400\n"
     ]
    }
   ],
   "source": [
    "A = \"There are 400 students in Data science course\"\n",
    "print(A)\n",
    "num = \"\"\n",
    "for B in A:\n",
    "    if B.isdigit():\n",
    "        num = num + B\n",
    "print(\"Extracted digit from string is:\", num)"
   ]
  },
  {
   "cell_type": "markdown",
   "id": "bbc3ead0",
   "metadata": {},
   "source": [
    "Q25) Extract all alphabets from a string."
   ]
  },
  {
   "cell_type": "code",
   "execution_count": 293,
   "id": "187716cf-598c-45a9-b4db-1dde60cc1698",
   "metadata": {},
   "outputs": [
    {
     "name": "stdout",
     "output_type": "stream",
     "text": [
      "python is top 1 proggramming language\n",
      "Extracted alphabests from string is: pythonistopproggramminglanguage\n"
     ]
    }
   ],
   "source": [
    "A = \"python is top 1 proggramming language\"\n",
    "print(A)\n",
    "Alpha = \"\"\n",
    "for B in A:\n",
    "    if B.isalpha():\n",
    "        Alpha = Alpha + B\n",
    "print(\"Extracted alphabests from string is:\", Alpha)"
   ]
  },
  {
   "cell_type": "markdown",
   "id": "45c70b3d",
   "metadata": {},
   "source": [
    "26) Count the number of uppercase letters in a string."
   ]
  },
  {
   "cell_type": "code",
   "execution_count": 292,
   "id": "c8858ba4-f23b-4d0f-85db-0fe4cf9b77f1",
   "metadata": {},
   "outputs": [
    {
     "name": "stdout",
     "output_type": "stream",
     "text": [
      "This Assignment is very lengthy but it built all Python basics\n",
      "The number of uppercase in given string is 3\n"
     ]
    }
   ],
   "source": [
    "A = \"This Assignment is very lengthy but it built all Python basics\"\n",
    "upper = 0\n",
    "print(A)\n",
    "for i in A:\n",
    "    if i.isupper():\n",
    "        upper = upper + 1\n",
    "print(\"The number of uppercase in given string is\", upper)"
   ]
  },
  {
   "cell_type": "markdown",
   "id": "d623e3fb",
   "metadata": {},
   "source": [
    "Q27) Count the number of lowercase letters in a string."
   ]
  },
  {
   "cell_type": "code",
   "execution_count": 291,
   "id": "6f429826-20fb-4cd6-8180-25a67b495237",
   "metadata": {},
   "outputs": [
    {
     "name": "stdout",
     "output_type": "stream",
     "text": [
      "This Assignment is very lengthy but it built all Python basics\n",
      "The number of lowercase in given string is 49\n"
     ]
    }
   ],
   "source": [
    "A = \"This Assignment is very lengthy but it built all Python basics\"\n",
    "lower = 0\n",
    "print(A)\n",
    "for i in A:\n",
    "    if i.islower():\n",
    "        lower = lower + 1\n",
    "print(\"The number of lowercase in given string is\", lower)"
   ]
  },
  {
   "cell_type": "markdown",
   "id": "f4fdfd5f",
   "metadata": {},
   "source": [
    "Q28) Swap the case of each character in a string."
   ]
  },
  {
   "cell_type": "code",
   "execution_count": 290,
   "id": "a63c953e-4599-4c72-9179-fc3bd7660fb4",
   "metadata": {},
   "outputs": [
    {
     "name": "stdout",
     "output_type": "stream",
     "text": [
      "mY name IS celesty\n"
     ]
    }
   ],
   "source": [
    "string = \"My NAME is CELESTY\"\n",
    "A = string.swapcase()\n",
    "print(A)"
   ]
  },
  {
   "cell_type": "markdown",
   "id": "959776db",
   "metadata": {},
   "source": [
    "Q29) Remove a specific word from a string."
   ]
  },
  {
   "cell_type": "code",
   "execution_count": 289,
   "id": "36d2afed-dec7-455b-ac2c-0ab74ea67733",
   "metadata": {},
   "outputs": [
    {
     "name": "stdout",
     "output_type": "stream",
     "text": [
      "MY  name is lucy\n"
     ]
    }
   ],
   "source": [
    "string = \"MY dog name is lucy\"\n",
    "B = string.replace(\"dog\", \"\")\n",
    "print(B)"
   ]
  },
  {
   "cell_type": "markdown",
   "id": "566a8fb3",
   "metadata": {},
   "source": [
    "Q30) Check if a string is a valid email address."
   ]
  },
  {
   "cell_type": "code",
   "execution_count": 22,
   "id": "59797da6",
   "metadata": {},
   "outputs": [
    {
     "name": "stdout",
     "output_type": "stream",
     "text": [
      "True\n",
      "False\n"
     ]
    }
   ],
   "source": [
    "import re\n",
    "\n",
    "def is_valid_email(email):\n",
    "    pattern = r'^[\\w\\.-]+@[\\w\\.-]+\\.\\w+$'  \n",
    "    if re.match(pattern, email):\n",
    "        return True\n",
    "    else:\n",
    "        return False\n",
    "\n",
    "# Example email addresses\n",
    "email1 = \"celesty@email.com\"\n",
    "email2 = \"lucy-email\"\n",
    "result1 = is_valid_email(email1)\n",
    "result2 = is_valid_email(email2)\n",
    "print(result1)\n",
    "print(result2)"
   ]
  },
  {
   "cell_type": "markdown",
   "id": "c6fb3439",
   "metadata": {},
   "source": [
    " Q31 Extract the username from an email address string."
   ]
  },
  {
   "cell_type": "code",
   "execution_count": 288,
   "id": "0feeeec9-7ae3-4d63-b245-fe1b878c71f7",
   "metadata": {},
   "outputs": [
    {
     "name": "stdout",
     "output_type": "stream",
     "text": [
      "User Name: celesty\n"
     ]
    }
   ],
   "source": [
    "email = input(\"Enter Email Address\")\n",
    "user_name = email.split(\"@\")[0]\n",
    "print(\"User Name:\", user_name)"
   ]
  },
  {
   "cell_type": "markdown",
   "id": "d1a5c7c9",
   "metadata": {},
   "source": [
    "Q30) Check if a string is a valid email address."
   ]
  },
  {
   "cell_type": "code",
   "execution_count": 3,
   "id": "10c4617d-6dbe-4901-b090-69cb17874334",
   "metadata": {},
   "outputs": [
    {
     "name": "stdout",
     "output_type": "stream",
     "text": [
      "Valid email address\n"
     ]
    }
   ],
   "source": [
    "from validate_email import validate_email\n",
    "\n",
    "email = input(\"Enter your Email\")\n",
    "is_valid = validate_email(email)\n",
    "\n",
    "if is_valid:\n",
    "    print(\"Valid email address\")\n",
    "else:\n",
    "    print(\"Invalid email address\")"
   ]
  },
  {
   "cell_type": "markdown",
   "id": "a6e0846f",
   "metadata": {},
   "source": [
    "Q32) Extract the username from an email address string."
   ]
  },
  {
   "cell_type": "code",
   "execution_count": 287,
   "id": "409c973a-1c0b-4360-ab96-7aa028e9256e",
   "metadata": {},
   "outputs": [
    {
     "name": "stdout",
     "output_type": "stream",
     "text": [
      "User Name: gmail.com\n"
     ]
    }
   ],
   "source": [
    "email = input(\"Enter Email Address\")\n",
    "domain_name = email.split(\"@\")[1]\n",
    "print(\"User Name:\", domain_name)"
   ]
  },
  {
   "cell_type": "markdown",
   "id": "0e4b2724",
   "metadata": {},
   "source": [
    "Q33) Replace multiple spaces in a string with a single space."
   ]
  },
  {
   "cell_type": "code",
   "execution_count": 286,
   "id": "644defdc-7b61-459f-972d-915ea2bb72b1",
   "metadata": {},
   "outputs": [
    {
     "name": "stdout",
     "output_type": "stream",
     "text": [
      "My     dog    name is       lucy\n",
      "The string after by replacig single space is :My dog name is lucy\n"
     ]
    }
   ],
   "source": [
    "String = str(input(\"Enter the string\"))\n",
    "print(String)\n",
    "new_string = String.split()\n",
    "print(f'The string after by replacig single space is :{\" \".join(new_string)}')"
   ]
  },
  {
   "cell_type": "markdown",
   "id": "90477985",
   "metadata": {},
   "source": [
    "Q34) Check if a string is a valid URL."
   ]
  },
  {
   "cell_type": "code",
   "execution_count": 285,
   "id": "cd2e2d40",
   "metadata": {},
   "outputs": [
    {
     "name": "stdout",
     "output_type": "stream",
     "text": [
      "The given url is : http://www.insta.com\n",
      "Url is valid\n"
     ]
    }
   ],
   "source": [
    "import validators\n",
    "url = input(\"Enter your url\")\n",
    "\n",
    "validation_url = validators.url(url)\n",
    "print(\"The given url is :\",url)\n",
    "if validation_url:\n",
    "    print(\"Url is valid\")\n",
    "else:\n",
    "    print(\"Url is invalid\")\n"
   ]
  },
  {
   "cell_type": "markdown",
   "id": "94498a42",
   "metadata": {},
   "source": [
    " Q35) Extract the protocol (http or https) from a URL string."
   ]
  },
  {
   "cell_type": "code",
   "execution_count": 284,
   "id": "35b0997e-76ad-42cf-aaed-50511a31710b",
   "metadata": {},
   "outputs": [
    {
     "name": "stdout",
     "output_type": "stream",
     "text": [
      "Protocol of given URL is: http\n"
     ]
    }
   ],
   "source": [
    "url = str(input(\"Enter your URl\"))\n",
    "protocol_name = url.split(\":\")[0]\n",
    "print(\"Protocol of given URL is:\", protocol_name)"
   ]
  },
  {
   "cell_type": "markdown",
   "id": "c45b0702",
   "metadata": {},
   "source": [
    "Q36) Find the frequency of each character in a string."
   ]
  },
  {
   "cell_type": "code",
   "execution_count": 283,
   "id": "9b5e36fb-b7bb-4f59-b491-4ddcfbeacd31",
   "metadata": {},
   "outputs": [
    {
     "name": "stdout",
     "output_type": "stream",
     "text": [
      "c : 1\n",
      "e : 2\n",
      "l : 1\n",
      "s : 1\n",
      "t : 1\n",
      "y : 1\n"
     ]
    }
   ],
   "source": [
    "String = input(\"Enter Your string\")\n",
    "f = []\n",
    "for i in String:\n",
    "    if i not in f:\n",
    "        print(i, \":\", String.count(i))\n",
    "        f.append(i)"
   ]
  },
  {
   "cell_type": "markdown",
   "id": "fc026934",
   "metadata": {},
   "source": [
    "Q37) Remove all punctuation from a string."
   ]
  },
  {
   "cell_type": "code",
   "execution_count": 282,
   "id": "c5779046-6bd4-433e-974b-0334f441171f",
   "metadata": {},
   "outputs": [
    {
     "name": "stdout",
     "output_type": "stream",
     "text": [
      "The given string without punctuation is: Hel0oworld\n"
     ]
    }
   ],
   "source": [
    "P = input(\"Enter the string\")\n",
    "punct = \"\"\" ! @ # $ , % ^ & * () _ {} [] < > | / >\\\" ':\"\"\"\n",
    "\n",
    "for i in P:\n",
    "    if i in punct:\n",
    "        P = P.replace(i, \"\")\n",
    "print(\"The given string without punctuation is:\", P)"
   ]
  },
  {
   "cell_type": "markdown",
   "id": "2d00b978",
   "metadata": {},
   "source": [
    "Q38) Check if a string contains only digits."
   ]
  },
  {
   "cell_type": "code",
   "execution_count": 281,
   "id": "061e8481-3edc-4ce0-a4a4-3eedfca67554",
   "metadata": {},
   "outputs": [
    {
     "name": "stdout",
     "output_type": "stream",
     "text": [
      "The given string contains only digit\n"
     ]
    }
   ],
   "source": [
    "string = input()\n",
    "if string.isdigit():\n",
    "    print(\"The given string contains only digit\")\n",
    "else:\n",
    "    print(\"The given string does not contain only digit\")"
   ]
  },
  {
   "cell_type": "markdown",
   "id": "3aef31cc",
   "metadata": {},
   "source": [
    "Q39) Check if a string contains only alphabets."
   ]
  },
  {
   "cell_type": "code",
   "execution_count": 280,
   "id": "2018f51b-9af8-412e-8e40-fb14ddf9d3c9",
   "metadata": {},
   "outputs": [
    {
     "name": "stdout",
     "output_type": "stream",
     "text": [
      "The given string does not contain only alphabet\n"
     ]
    }
   ],
   "source": [
    "string = input()\n",
    "if string.isalpha():\n",
    "    print(\"The given string contains only alphabet\")\n",
    "else:\n",
    "    print(\"The given string does not contain only alphabet\")"
   ]
  },
  {
   "cell_type": "markdown",
   "id": "58dbc494",
   "metadata": {},
   "source": [
    "Q40) Convert a string to a list of characters."
   ]
  },
  {
   "cell_type": "code",
   "execution_count": 279,
   "id": "72f89b9d-a2e3-4f5d-91cc-d154f92a97f4",
   "metadata": {},
   "outputs": [
    {
     "name": "stdout",
     "output_type": "stream",
     "text": [
      "['p', 'y', 't', 'h', 'o', 'n']\n"
     ]
    }
   ],
   "source": [
    "string = input(\"Enter the string\")\n",
    "list = []\n",
    "for i in string:\n",
    "    list.append(i)\n",
    "print(list)"
   ]
  },
  {
   "cell_type": "markdown",
   "id": "21c03a90",
   "metadata": {},
   "source": [
    "Q41) Check if two strings are anagrams."
   ]
  },
  {
   "cell_type": "code",
   "execution_count": 278,
   "id": "3d520606-7010-442b-99b0-786d1cb3b034",
   "metadata": {},
   "outputs": [
    {
     "name": "stdout",
     "output_type": "stream",
     "text": [
      "The strings are anagrams.\n"
     ]
    }
   ],
   "source": [
    "str1, str2 = input(\"Enter string 1: \"), input(\"Enter string 2: \")\n",
    "str1 = sorted(str1.lower())\n",
    "str2 = sorted(str2.lower())\n",
    "\n",
    "if str1 == str2:\n",
    "    print(\"The strings are anagrams.\")\n",
    "else:\n",
    "    print(\"The strings are not anagrams.\")"
   ]
  },
  {
   "cell_type": "markdown",
   "id": "71e85126",
   "metadata": {},
   "source": [
    " Q42) Encode a string using a Caesar cipher."
   ]
  },
  {
   "cell_type": "code",
   "execution_count": 277,
   "id": "6c7243e7-6a75-4455-8aee-6792a956c454",
   "metadata": {},
   "outputs": [
    {
     "name": "stdout",
     "output_type": "stream",
     "text": [
      "Text  : celesty\n",
      "Shift : 3\n",
      "Cipher: fhohvwb\n"
     ]
    }
   ],
   "source": [
    "def encrypt(inputText, s):\n",
    "    result = \"\"\n",
    "\n",
    "    for i in range(len(inputText)):\n",
    "        char = inputText[i]\n",
    "\n",
    "        if char.isupper():\n",
    "            result += chr((ord(char) + s - 65) % 26 + 65)\n",
    "\n",
    "        else:\n",
    "            result += chr((ord(char) + s - 97) % 26 + 97)\n",
    "\n",
    "    return result\n",
    "\n",
    "\n",
    "inputText = input(\"Enter the string\")\n",
    "s = int(input(\"Enter the shift you want\"))\n",
    "print(\"Text  : \" + inputText)\n",
    "print(\"Shift : \" + str(s))\n",
    "print(\"Cipher: \" + encrypt(inputText, s))"
   ]
  },
  {
   "cell_type": "markdown",
   "id": "a896bddb",
   "metadata": {},
   "source": [
    " Q43) Decode a Caesar cipher encoded string."
   ]
  },
  {
   "cell_type": "code",
   "execution_count": 276,
   "id": "a625d3c9-58db-4425-a84d-ce041e5ca7a7",
   "metadata": {},
   "outputs": [
    {
     "name": "stdout",
     "output_type": "stream",
     "text": [
      "celesty\n"
     ]
    }
   ],
   "source": [
    "def caesar_decrypt(ciphertext, shift):\n",
    "    decrypted_text = \"\"\n",
    "\n",
    "    for char in ciphertext:\n",
    "        if char.isalpha():\n",
    "            ascii_offset = ord(\"a\") if char.islower() else ord(\"A\")\n",
    "            decrypted_char = chr((ord(char) - ascii_offset - shift) % 26 + ascii_offset)\n",
    "            decrypted_text += decrypted_char\n",
    "        else:\n",
    "            decrypted_text += char\n",
    "\n",
    "    return decrypted_text\n",
    "\n",
    "\n",
    "# Example usage\n",
    "encoded_string = \"fhohvwb\"\n",
    "shift_value = 3\n",
    "decoded_string = caesar_decrypt(encoded_string, shift_value)\n",
    "print(decoded_string)"
   ]
  },
  {
   "cell_type": "markdown",
   "id": "d043abf9",
   "metadata": {},
   "source": [
    "Q44) Find the most frequent word in a string."
   ]
  },
  {
   "cell_type": "code",
   "execution_count": 25,
   "id": "f6de64c3-91f7-4cf8-a39c-93e869c08d5f",
   "metadata": {},
   "outputs": [
    {
     "name": "stdout",
     "output_type": "stream",
     "text": [
      "apples oranges apples banana\n",
      "The most frequent word is: apples\n"
     ]
    }
   ],
   "source": [
    "input_string = input(\"Enter the string\")\n",
    "print(input_string)\n",
    "words = input_string.split()\n",
    "word_frequency = {}\n",
    "for word in words:\n",
    "    if word in word_frequency:\n",
    "        word_frequency[word] += 1\n",
    "    else:\n",
    "        word_frequency[word] = 1\n",
    "most_frequent_word = max(word_frequency, key=word_frequency.get)\n",
    "print(\"The most frequent word is:\", most_frequent_word)"
   ]
  },
  {
   "cell_type": "markdown",
   "id": "a9201787",
   "metadata": {},
   "source": [
    "Q45) Find all unique words in a string."
   ]
  },
  {
   "cell_type": "code",
   "execution_count": 274,
   "id": "fe986c05-7307-490a-82da-d2567262652e",
   "metadata": {},
   "outputs": [
    {
     "name": "stdout",
     "output_type": "stream",
     "text": [
      "{'great', 'is', 'pw', 'learn', 'skills', 'to', 'a', 'platform'}\n"
     ]
    }
   ],
   "source": [
    "input_string = input(\"Enter the string\")\n",
    "words = input_string.split()\n",
    "unique_words = set(words)\n",
    "print(unique_words)"
   ]
  },
  {
   "cell_type": "markdown",
   "id": "ccfb3853",
   "metadata": {},
   "source": [
    "Q46) Count the number of syllables in a string."
   ]
  },
  {
   "cell_type": "code",
   "execution_count": 273,
   "id": "9082aae0-9647-48af-8bc5-1d86fc98a0dc",
   "metadata": {},
   "outputs": [
    {
     "name": "stdout",
     "output_type": "stream",
     "text": [
      "HAIRY\n",
      "The number of syllables in the string is: \n",
      "2\n"
     ]
    }
   ],
   "source": [
    "word = (\"HAIRY\")\n",
    "print(word)\n",
    "syllable_count = 0\n",
    "for w in word:\n",
    "    if (\n",
    "        w == \"a\"\n",
    "        or w == \"e\"\n",
    "        or w == \"i\"\n",
    "        or w == \"o\"\n",
    "        or w == \"u\"\n",
    "        or w == \"A\"\n",
    "        or w == \"E\"\n",
    "        or w == \"I\"\n",
    "        or w == \"O\"\n",
    "        or w == \"U\"\n",
    "    ):\n",
    "        syllable_count = syllable_count + 1\n",
    "print(\"The number of syllables in the string is: \")\n",
    "print(syllable_count)"
   ]
  },
  {
   "cell_type": "markdown",
   "id": "6cc89d52",
   "metadata": {},
   "source": [
    "Q47) Check if a string contains any special characters."
   ]
  },
  {
   "cell_type": "code",
   "execution_count": 272,
   "id": "84c175ee",
   "metadata": {},
   "outputs": [
    {
     "name": "stdout",
     "output_type": "stream",
     "text": [
      "C@l@sty\n",
      "The given string without Special characters is: Clsty\n"
     ]
    }
   ],
   "source": [
    "String = input(\"Enter the string\")\n",
    "print(String)\n",
    "Special_char = \"\"\" ! @ # $ , % ^ & * () _ {} [] < > | / >\\\" ':\"\"\"\n",
    "\n",
    "for s in String:\n",
    "    if s in Special_char:\n",
    "        String = String.replace(s, \"\")\n",
    "print(\"The given string without Special characters is:\", String)"
   ]
  },
  {
   "cell_type": "markdown",
   "id": "e9bc2107",
   "metadata": {},
   "source": [
    "Q48) Remove the nth word from a string."
   ]
  },
  {
   "cell_type": "code",
   "execution_count": 271,
   "id": "43be2214",
   "metadata": {},
   "outputs": [
    {
     "name": "stdout",
     "output_type": "stream",
     "text": [
      "iphone is very expensive mobile\n",
      "3\n",
      "iphone is expensive mobile\n"
     ]
    }
   ],
   "source": [
    "input_string = input(\"Enter the string\")\n",
    "print(input_string)\n",
    " \n",
    "n = int(input(\"Enter the position you want to remove\"))  # Remove the word\n",
    "print(n)\n",
    "\n",
    "words = input_string.split()  # Split the string into words\n",
    "\n",
    "if n > 0 and n <= len(words):\n",
    "    del words[n - 1]  # Remove the nth word (adjusted for 0-based indexing)\n",
    "    result = \" \".join(words)  # Join the remaining words back into a string\n",
    "    print(result)\n",
    "else:\n",
    "    print(\"Invalid index for word removal\")"
   ]
  },
  {
   "cell_type": "markdown",
   "id": "162922be",
   "metadata": {},
   "source": [
    "Q49) Insert a word at the nth position in a string."
   ]
  },
  {
   "cell_type": "code",
   "execution_count": 270,
   "id": "9632aa72",
   "metadata": {},
   "outputs": [
    {
     "name": "stdout",
     "output_type": "stream",
     "text": [
      "ikiagi is a book\n",
      "4\n",
      "ikiagi is a great book\n"
     ]
    }
   ],
   "source": [
    "input_string = input(\"Enter the string:\")\n",
    "print(input_string)\n",
    "\n",
    "N = int(input(\"Enter the position you want to intsert:\"))\n",
    "print(N)\n",
    "\n",
    "add = str(input(\"Enter the word you want to add:\"))\n",
    "words = input_string.split()  # split the string into words\n",
    "\n",
    "if N > 0 and N <= len(words):\n",
    "    words.insert(N - 1, add)  # inserting the nth word(adjusted for 0-based indexing)\n",
    "    result = \" \".join(words)  # join the remaining words back into a string\n",
    "    print(result)\n",
    "else:\n",
    "    print(\"Invalid index for word inserting\")"
   ]
  },
  {
   "cell_type": "markdown",
   "id": "20ff6606",
   "metadata": {},
   "source": [
    "Q50) Convert a CSV string to a list of lists."
   ]
  },
  {
   "cell_type": "code",
   "execution_count": 26,
   "id": "fc79171f",
   "metadata": {},
   "outputs": [
    {
     "name": "stdout",
     "output_type": "stream",
     "text": [
      "['Name', ' Age', ' Country']\n",
      "['celesty', ' 25', ' India']\n",
      "['lucy', ' 30', ' Canada']\n",
      "['Florina', ' 52', ' UK']\n"
     ]
    }
   ],
   "source": [
    "def csv_string_to_list(csv_string):\n",
    "    # Split the CSV string into lines\n",
    "    lines = csv_string.split('\\n')\n",
    "\n",
    "    # Initialize an empty list to store the result\n",
    "    result = []\n",
    "\n",
    "    for line in lines:\n",
    "        # Split each line into fields using comma as the delimiter\n",
    "        fields = line.split(',')\n",
    "\n",
    "        # Append the fields to the result list as a row\n",
    "        result.append(fields)\n",
    "\n",
    "    return result\n",
    "\n",
    "# Example CSV string\n",
    "csv_data = \"Name, Age, Country\\ncelesty, 25, India\\nlucy, 30, Canada\\nFlorina, 52, UK\"\n",
    "\n",
    "# Convert CSV string to a list of lists\n",
    "list_of_lists = csv_string_to_list(csv_data)\n",
    "\n",
    "# Print the result\n",
    "for row in list_of_lists:\n",
    "    print(row)"
   ]
  },
  {
   "cell_type": "markdown",
   "id": "8ee51e7d",
   "metadata": {},
   "source": [
    "*list*\n"
   ]
  },
  {
   "cell_type": "markdown",
   "id": "b7caecba",
   "metadata": {},
   "source": [
    "Q1) Create a list with integers from 1 to 10."
   ]
  },
  {
   "cell_type": "code",
   "execution_count": 268,
   "id": "3ef4f0ff",
   "metadata": {},
   "outputs": [
    {
     "name": "stdout",
     "output_type": "stream",
     "text": [
      "The lis with integers from 1 to 10 are:\n",
      " [1, 2, 3, 4, 5, 6, 7, 8, 9, 10]\n"
     ]
    }
   ],
   "source": [
    "# using range function upper bound +1\n",
    "input_list = [i for i in range(1,11)] \n",
    "\n",
    "print(\"The lis with integers from 1 to 10 are:\\n\",input_list)"
   ]
  },
  {
   "cell_type": "markdown",
   "id": "4059fca8",
   "metadata": {},
   "source": [
    "Q2) Find the length of a list without using the `len()` function."
   ]
  },
  {
   "cell_type": "code",
   "execution_count": 267,
   "id": "b2094491",
   "metadata": {},
   "outputs": [
    {
     "name": "stdout",
     "output_type": "stream",
     "text": [
      "The length of the given list is: 8\n"
     ]
    }
   ],
   "source": [
    "input_list = [1,2,3,4,97,57,96,124]\n",
    "\n",
    "count = 0\n",
    "\n",
    "for i in input_list:\n",
    "    count += 1 #instead of len() function we can use count\n",
    "    \n",
    "print(\"The length of the given list is:\",count)"
   ]
  },
  {
   "cell_type": "markdown",
   "id": "450510db",
   "metadata": {},
   "source": [
    "Q3) Append an element to the end of a list."
   ]
  },
  {
   "cell_type": "code",
   "execution_count": 266,
   "id": "2737bc76",
   "metadata": {},
   "outputs": [
    {
     "name": "stdout",
     "output_type": "stream",
     "text": [
      "Before appending the element [1, 2, 3, 4, 5, 6]\n",
      "Updated list: [1, 2, 3, 4, 5, 6, 7]\n"
     ]
    }
   ],
   "source": [
    "list_1 = [1,2,3,4,5,6]\n",
    "print(\"Before appending the element\",list_1)\n",
    "\n",
    "new_list = [7]\n",
    "\n",
    "for i in new_list:\n",
    "    list_1.append(i) #adding item at the end of list\n",
    "    \n",
    "print(\"Updated list:\",list_1)"
   ]
  },
  {
   "cell_type": "markdown",
   "id": "f727f4d0",
   "metadata": {},
   "source": [
    "Q4) Insert an element at a specific index in a list."
   ]
  },
  {
   "cell_type": "code",
   "execution_count": 265,
   "id": "0f30adc1",
   "metadata": {},
   "outputs": [
    {
     "name": "stdout",
     "output_type": "stream",
     "text": [
      "Before inserting the element [10, 20, 40, 50, 60]\n",
      "Updated list: [10, 20, 30, 40, 50, 60]\n"
     ]
    }
   ],
   "source": [
    "list_4 = [10,20,40,50,60]\n",
    "print(\"Before inserting the element\",list_4)\n",
    "\n",
    "new_list = 30\n",
    "\n",
    "list_4.insert(2,new_list) #adding item at the end of list\n",
    "print(\"Updated list:\",list_4)"
   ]
  },
  {
   "cell_type": "markdown",
   "id": "5983dcda",
   "metadata": {},
   "source": [
    "Q5) Remove an element from a list by its value."
   ]
  },
  {
   "cell_type": "code",
   "execution_count": 264,
   "id": "67ae89c8",
   "metadata": {},
   "outputs": [
    {
     "name": "stdout",
     "output_type": "stream",
     "text": [
      "Before removing the value in list: [1, 2, 3, 'b', 4]\n",
      "Updated list: [1, 2, 3, 4]\n"
     ]
    }
   ],
   "source": [
    "list_5 = [1,2,3,'b',4]\n",
    "print(\"Before removing the value in list:\",list_5)\n",
    "\n",
    "rem_ele = 'b' # element to be reoved\n",
    "\n",
    "list_5.remove(rem_ele) #remove specific value from list\n",
    "print(\"Updated list:\",list_5)"
   ]
  },
  {
   "cell_type": "markdown",
   "id": "6fe675b3",
   "metadata": {},
   "source": [
    "Q6) Remove an element from a list by its index."
   ]
  },
  {
   "cell_type": "code",
   "execution_count": 263,
   "id": "de2881e5",
   "metadata": {},
   "outputs": [
    {
     "name": "stdout",
     "output_type": "stream",
     "text": [
      "Before removing the element by its index: [11, 12, 13, 14, 15, 16, 17]\n",
      "Updated list: [11, 12, 13, 14, 15, 16]\n"
     ]
    }
   ],
   "source": [
    "list_6 = [11,12,13,14,15,16,17]\n",
    "print(\"Before removing the element by its index:\",list_6)\n",
    "\n",
    "rem_ele = list_6.index(17) #which element to remove\n",
    "\n",
    "del list_6[rem_ele]    \n",
    "print(\"Updated list:\",list_6)"
   ]
  },
  {
   "cell_type": "markdown",
   "id": "8779f569",
   "metadata": {},
   "source": [
    "Q7) Check if an element exists in a list."
   ]
  },
  {
   "cell_type": "code",
   "execution_count": 262,
   "id": "9e335e75",
   "metadata": {},
   "outputs": [
    {
     "name": "stdout",
     "output_type": "stream",
     "text": [
      "The give list is: [21, 22, 23, 24, 25, 26, 27]\n",
      "27\n",
      "The element exist in the list\n"
     ]
    }
   ],
   "source": [
    "list_7 = [21,22,23,24,25,26,27]\n",
    "print(\"The give list is:\",list_7)\n",
    "\n",
    "i = int(input(\"Enter the element you want to check\"))\n",
    "print(i)\n",
    "\n",
    "if i in list_7:\n",
    "     print(\"The element exist in the list\")\n",
    "else:\n",
    "     print(\"Invalid element\")\n"
   ]
  },
  {
   "cell_type": "markdown",
   "id": "17e9af12",
   "metadata": {},
   "source": [
    "Q8) Find the index of the first occurrence of an element in a list."
   ]
  },
  {
   "cell_type": "code",
   "execution_count": 261,
   "id": "4d970d28",
   "metadata": {},
   "outputs": [
    {
     "name": "stdout",
     "output_type": "stream",
     "text": [
      "The occurance of java is:\n",
      " 1\n"
     ]
    }
   ],
   "source": [
    "list_8 = ['python','java','javascript','C++','C']\n",
    "\n",
    "occ_of = 'java'\n",
    "\n",
    "result = list_8.index(occ_of)  #indexing always follow upper bound-1\n",
    "\n",
    "print(f\"The occurance of {occ_of} is:\\n\",result)"
   ]
  },
  {
   "cell_type": "markdown",
   "id": "3a3b3ae1",
   "metadata": {},
   "source": [
    "Q9) Count the occurrences of an element in a list."
   ]
  },
  {
   "cell_type": "code",
   "execution_count": 260,
   "id": "f08e8e00",
   "metadata": {},
   "outputs": [
    {
     "name": "stdout",
     "output_type": "stream",
     "text": [
      "The count of occurance of 5 is : 3\n"
     ]
    }
   ],
   "source": [
    "list_9 = [1,2,3,5,2,5,4,7,6,8,9,1,5,6]\n",
    "\n",
    "X = 5\n",
    "\n",
    "result = list_9.count(X)\n",
    "\n",
    "print(f\"The count of occurance of {X} is :\",result)\n",
    "                   "
   ]
  },
  {
   "cell_type": "markdown",
   "id": "abe2fdbd",
   "metadata": {},
   "source": [
    "Q10) Reverse the order of elements in a list."
   ]
  },
  {
   "cell_type": "code",
   "execution_count": 259,
   "id": "7a28372c",
   "metadata": {},
   "outputs": [
    {
     "name": "stdout",
     "output_type": "stream",
     "text": [
      "The reverse order of given list is [50, 40, 30, 20, 10]\n"
     ]
    }
   ],
   "source": [
    "list_10 = [10,20,30,40,50]\n",
    "\n",
    "new_list = list_10[::-1]\n",
    "\n",
    "print(\"The reverse order of given list is\",new_list)"
   ]
  },
  {
   "cell_type": "markdown",
   "id": "e6ec2493",
   "metadata": {},
   "source": [
    "Q11) Sort a list in ascending order."
   ]
  },
  {
   "cell_type": "code",
   "execution_count": 258,
   "id": "88547da0",
   "metadata": {},
   "outputs": [
    {
     "name": "stdout",
     "output_type": "stream",
     "text": [
      "After sorting the given list: [1, 2, 3, 4, 5, 5, 6, 7, 8, 9]\n"
     ]
    }
   ],
   "source": [
    "list_11 = [2,5,8,7,9,1,3,5,4,6]\n",
    "\n",
    "list_11.sort()\n",
    "\n",
    "print(\"After sorting the given list:\",list_11)"
   ]
  },
  {
   "cell_type": "markdown",
   "id": "79a681bb",
   "metadata": {},
   "source": [
    "Q12) Sort a list in descending order."
   ]
  },
  {
   "cell_type": "code",
   "execution_count": 257,
   "id": "b64a4e21",
   "metadata": {},
   "outputs": [
    {
     "name": "stdout",
     "output_type": "stream",
     "text": [
      "sorted list in descending order : [70, 60, 50, 40, 30, 20, 10]\n"
     ]
    }
   ],
   "source": [
    "list_12 = [10,20,30,40,50,60,70]\n",
    "\n",
    "list_12.sort(reverse = True)\n",
    "\n",
    "print(\"sorted list in descending order :\",list_12)"
   ]
  },
  {
   "cell_type": "markdown",
   "id": "e854d967",
   "metadata": {},
   "source": [
    "Q13) Create a list of even numbers from 1 to 20."
   ]
  },
  {
   "cell_type": "code",
   "execution_count": 256,
   "id": "9dbceba2",
   "metadata": {},
   "outputs": [
    {
     "name": "stdout",
     "output_type": "stream",
     "text": [
      "The list of even numbers in 1 to 20 are : [2, 4, 6, 8, 10, 12, 14, 16, 18, 20]\n"
     ]
    }
   ],
   "source": [
    "list_13 = list(range(2,21,2))\n",
    "\n",
    "print (\"The list of even numbers in 1 to 20 are :\",list_13)\n"
   ]
  },
  {
   "cell_type": "markdown",
   "id": "630ac0a1",
   "metadata": {},
   "source": [
    "Q14) Create a list of odd numbers from 1 to 20."
   ]
  },
  {
   "cell_type": "code",
   "execution_count": 255,
   "id": "93b072aa",
   "metadata": {},
   "outputs": [
    {
     "name": "stdout",
     "output_type": "stream",
     "text": [
      "The list of odd numbers in 1 to 20 are : [1, 3, 5, 7, 9, 11, 13, 15, 17, 19]\n"
     ]
    }
   ],
   "source": [
    "list_14 = list(range(1,20,2))\n",
    "\n",
    "print (\"The list of odd numbers in 1 to 20 are :\",list_14)"
   ]
  },
  {
   "cell_type": "markdown",
   "id": "33cb8bb3",
   "metadata": {},
   "source": [
    "Q15) Find the sum of all elements in a list."
   ]
  },
  {
   "cell_type": "code",
   "execution_count": 254,
   "id": "131fe4d6",
   "metadata": {},
   "outputs": [
    {
     "name": "stdout",
     "output_type": "stream",
     "text": [
      "The sum of all elements in given list is : 21\n"
     ]
    }
   ],
   "source": [
    "list_15 = [1,2,3,4,5,6]\n",
    "\n",
    "total = 0\n",
    "\n",
    "for i in range (0,len(list_15)):\n",
    "    total = total + list_15[i]\n",
    "\n",
    "print(\"The sum of all elements in given list is :\",total)"
   ]
  },
  {
   "cell_type": "markdown",
   "id": "1ddbe804",
   "metadata": {},
   "source": [
    "Q16) Find the maximum value in a list."
   ]
  },
  {
   "cell_type": "code",
   "execution_count": 252,
   "id": "94d1c1ba",
   "metadata": {},
   "outputs": [
    {
     "name": "stdout",
     "output_type": "stream",
     "text": [
      "The max value of all elements in given list is : 112\n"
     ]
    }
   ],
   "source": [
    "list_16 = [1,7,45,4,112,60]\n",
    "\n",
    "total = 0\n",
    "\n",
    "for i in range (0,len(list_16)):\n",
    "    total = max(list_16)\n",
    "\n",
    "print(\"The max value of all elements in given list is :\",total)"
   ]
  },
  {
   "cell_type": "markdown",
   "id": "4e1fa724",
   "metadata": {},
   "source": [
    "Q17) Find the minimum value in a list."
   ]
  },
  {
   "cell_type": "code",
   "execution_count": 251,
   "id": "88139f2f",
   "metadata": {},
   "outputs": [
    {
     "name": "stdout",
     "output_type": "stream",
     "text": [
      "The min value of all elements in given list is : 25\n"
     ]
    }
   ],
   "source": [
    "list_17 = [50,120,452,951,567,52,25]\n",
    "\n",
    "total = 0\n",
    "\n",
    "for i in range (0,len(list_17)):\n",
    "    total = min(list_17)\n",
    "\n",
    "print(\"The min value of all elements in given list is :\",total)"
   ]
  },
  {
   "cell_type": "markdown",
   "id": "73861bca",
   "metadata": {},
   "source": [
    "Q18) Create a list of squares of numbers from 1 to 10."
   ]
  },
  {
   "cell_type": "code",
   "execution_count": 250,
   "id": "477cc79f",
   "metadata": {},
   "outputs": [
    {
     "name": "stdout",
     "output_type": "stream",
     "text": [
      "1 4 9 16 25 36 49 64 81 100 \n"
     ]
    }
   ],
   "source": [
    "list_18 = list(range(1,11,1))\n",
    "\n",
    "for i in list_18:\n",
    "    print(i*i, end =\" \")\n",
    "\n",
    "print()"
   ]
  },
  {
   "cell_type": "markdown",
   "id": "fa4099aa",
   "metadata": {},
   "source": [
    "Q19)Create a list of random numbers."
   ]
  },
  {
   "cell_type": "code",
   "execution_count": 249,
   "id": "5c05afac",
   "metadata": {},
   "outputs": [
    {
     "name": "stdout",
     "output_type": "stream",
     "text": [
      "[52, 89, 80, 16, 59, 79, 87, 21, 7, 100]\n"
     ]
    }
   ],
   "source": [
    "import random\n",
    "\n",
    "list_19 =[]\n",
    "\n",
    "for i in range(10):\n",
    "    list_19.append(random.randint(0,100))\n",
    "print(list_19)"
   ]
  },
  {
   "cell_type": "markdown",
   "id": "ec04102a",
   "metadata": {},
   "source": [
    "Q20)Remove duplicates from a list."
   ]
  },
  {
   "cell_type": "code",
   "execution_count": 248,
   "id": "df58c914",
   "metadata": {},
   "outputs": [
    {
     "name": "stdout",
     "output_type": "stream",
     "text": [
      "Before removing the duplicate elements in list:  [1, 4, 9, 7, 5, 7, 6, 52, 64, 25, 24, 25, 26, 23, 21, 28, 29]\n",
      "After removing the duplicates [1, 4, 5, 6, 7, 9, 21, 23, 24, 25, 26, 28, 29, 52, 64]\n"
     ]
    }
   ],
   "source": [
    "list_20 = [1,4,9,7,5,7,6,52,64,25,24,25,26,23,21,28,29]\n",
    "\n",
    "print(\"Before removing the duplicate elements in list: \",str(list_20))\n",
    "\n",
    "list_20 = list(set(list_20))\n",
    "list_20.sort()\n",
    "\n",
    "print(\"After removing the duplicates\",str(list_20))"
   ]
  },
  {
   "cell_type": "markdown",
   "id": "5a3f62a7",
   "metadata": {},
   "source": [
    "Q21) Find the common elements between two lists."
   ]
  },
  {
   "cell_type": "code",
   "execution_count": 247,
   "id": "b086d914",
   "metadata": {},
   "outputs": [
    {
     "name": "stdout",
     "output_type": "stream",
     "text": [
      "The commom elements given in the list are : {5, 7}\n"
     ]
    }
   ],
   "source": [
    "A = [1,2,5,7,8,6]\n",
    "B = [9,11,15,7,5,21,80]\n",
    "\n",
    "print(\"The commom elements given in the list are :\",set(A).intersection(B))"
   ]
  },
  {
   "cell_type": "markdown",
   "id": "004d5fdc",
   "metadata": {},
   "source": [
    "Q22)Find the difference between two lists."
   ]
  },
  {
   "cell_type": "code",
   "execution_count": 246,
   "id": "590fd59c",
   "metadata": {},
   "outputs": [
    {
     "name": "stdout",
     "output_type": "stream",
     "text": [
      "[1, 2, 8]\n",
      "[9, 11, 12]\n"
     ]
    }
   ],
   "source": [
    "A = [1,2,5,7,8,6]\n",
    "B = [9,5,7,11,12,6]\n",
    "new_list1 = []\n",
    "new_list2 = []\n",
    "for i in A :\n",
    "    if i not in B :\n",
    "        new_list1.append(i)\n",
    "print(new_list1)\n",
    "for i in B:\n",
    "    if i not in A :\n",
    "        new_list2.append(i)\n",
    "print(new_list2)\n"
   ]
  },
  {
   "cell_type": "markdown",
   "id": "b341a233",
   "metadata": {},
   "source": [
    "Q23) Merge two lists."
   ]
  },
  {
   "cell_type": "code",
   "execution_count": 245,
   "id": "736b9238",
   "metadata": {},
   "outputs": [
    {
     "name": "stdout",
     "output_type": "stream",
     "text": [
      "After merging two list: [1, 2, 3, 4, 5, 6, 7, 8]\n"
     ]
    }
   ],
   "source": [
    "list_1 = [1,2,3,4]\n",
    "\n",
    "list_2 =[5,6,7,8]\n",
    "\n",
    "list_3 = list_1 + list_2\n",
    "print(\"After merging two list:\",list_3)"
   ]
  },
  {
   "cell_type": "markdown",
   "id": "9b57d08f",
   "metadata": {},
   "source": [
    "Q24) Multiply all elements in a list by 2."
   ]
  },
  {
   "cell_type": "code",
   "execution_count": 244,
   "id": "0cfebf81",
   "metadata": {},
   "outputs": [
    {
     "name": "stdout",
     "output_type": "stream",
     "text": [
      "Updated list: [4, 8, 6, 10, 18, 12, 14]\n"
     ]
    }
   ],
   "source": [
    "list_24 = [2,4,3,5,9,6,7]\n",
    "\n",
    "new_list = [i* 2 for i in list_24]\n",
    "\n",
    "print(\"Updated list:\",new_list)"
   ]
  },
  {
   "cell_type": "markdown",
   "id": "15c51aee",
   "metadata": {},
   "source": [
    "Q25) Filter out all even numbers from a list."
   ]
  },
  {
   "cell_type": "code",
   "execution_count": 243,
   "id": "09f92b1d",
   "metadata": {},
   "outputs": [
    {
     "name": "stdout",
     "output_type": "stream",
     "text": [
      "[12, 14]\n"
     ]
    }
   ],
   "source": [
    "list_25 = [11, 12, 13, 14, 15]\n",
    " \n",
    "new_list = []\n",
    " \n",
    "for num in list_25:\n",
    " \n",
    "    if num % 2 == 0:\n",
    "        new_list.append(num)\n",
    " \n",
    "\n",
    "print(new_list)"
   ]
  },
  {
   "cell_type": "markdown",
   "id": "ed1d41ed",
   "metadata": {},
   "source": [
    "Q26) Convert a list of strings to a list of integers."
   ]
  },
  {
   "cell_type": "code",
   "execution_count": 242,
   "id": "979d2c16",
   "metadata": {},
   "outputs": [
    {
     "name": "stdout",
     "output_type": "stream",
     "text": [
      "Modified list is : [10, 20, 30, 40, 50]\n"
     ]
    }
   ],
   "source": [
    "list_26 = ['10','20','30','40','50']\n",
    "\n",
    "for i in range (0, len(list_26)):\n",
    "    list_26[i] = int(list_26[i])\n",
    "print(\"Modified list is :\",str(list_26))"
   ]
  },
  {
   "cell_type": "markdown",
   "id": "0ea46385",
   "metadata": {},
   "source": [
    "Q27) Convert a list of integers to a list of strings."
   ]
  },
  {
   "cell_type": "code",
   "execution_count": 241,
   "id": "aec3e09d",
   "metadata": {},
   "outputs": [
    {
     "name": "stdout",
     "output_type": "stream",
     "text": [
      "Modified list is : ['1', '2', '3', '4', '5']\n"
     ]
    }
   ],
   "source": [
    "list_27 = [1,2,3,4,5]\n",
    "\n",
    "for i in range (0, len(list_27)):\n",
    "    list_27[i] = str(list_27[i])\n",
    "print(\"Modified list is :\",(list_27))"
   ]
  },
  {
   "cell_type": "markdown",
   "id": "3338f3da",
   "metadata": {},
   "source": [
    "Q28) Flatten a nested list."
   ]
  },
  {
   "cell_type": "code",
   "execution_count": 240,
   "id": "29b85daf",
   "metadata": {},
   "outputs": [
    {
     "name": "stdout",
     "output_type": "stream",
     "text": [
      "List [[11, 12, 13, 14], [15, 16, 17, 18], [19, 20, 21, 21]]\n",
      "Flat List [11, 12, 13, 14, 15, 16, 17, 18, 19, 20, 21, 21]\n"
     ]
    }
   ],
   "source": [
    "list_28 = [[11,12,13,14],[15,16,17,18],[19,20,21,21]]\n",
    "\n",
    "new_list = [element for innerList in list_28 for element in innerList]\n",
    "\n",
    "print('List',list_28)\n",
    "print('Flat List',new_list)\n"
   ]
  },
  {
   "cell_type": "markdown",
   "id": "68834c07",
   "metadata": {},
   "source": [
    "Q29) Create a list of the first 10 Fibonacci numbers."
   ]
  },
  {
   "cell_type": "code",
   "execution_count": 237,
   "id": "4926879f",
   "metadata": {},
   "outputs": [
    {
     "name": "stdout",
     "output_type": "stream",
     "text": [
      "First 10 fibonacci numbers : [0, 1, 1, 2, 3, 5, 8, 13, 21, 34]\n"
     ]
    }
   ],
   "source": [
    "n = [0, 1]\n",
    "for i in range(2,10):\n",
    "    n.append(n[i-1]+n[i-2])\n",
    "print(\"First 10 fibonacci numbers :\",n)"
   ]
  },
  {
   "cell_type": "markdown",
   "id": "26ed13f0",
   "metadata": {},
   "source": [
    "Q30) Check if a list is sorted."
   ]
  },
  {
   "cell_type": "code",
   "execution_count": 236,
   "id": "bb45f2e6",
   "metadata": {},
   "outputs": [
    {
     "name": "stdout",
     "output_type": "stream",
     "text": [
      "Original list : [1, 5, 9, 8, 10, 7]\n",
      "No, List is not sorted.\n"
     ]
    }
   ],
   "source": [
    "list_30 = [1,5,9,8,10,7]\n",
    "print (\"Original list : \" + str(list_30))\n",
    "\n",
    "f = 0\n",
    "i = 1\n",
    "while i < len(list_30):\n",
    "    if(list_30[i] < list_30[i - 1]):\n",
    "        f = 1\n",
    "    i += 1\n",
    "     \n",
    "if (not f) :\n",
    "    print (\"Yes, List is sorted.\")\n",
    "else :\n",
    "    print (\"No, List is not sorted.\")"
   ]
  },
  {
   "cell_type": "markdown",
   "id": "04315612",
   "metadata": {},
   "source": [
    "Q31) Rotate a list to the left by `n` positions."
   ]
  },
  {
   "cell_type": "code",
   "execution_count": null,
   "id": "d88dbf95",
   "metadata": {},
   "outputs": [
    {
     "name": "stdout",
     "output_type": "stream",
     "text": [
      "original list: [1, 4, 5, 9, 6]\n",
      "list after roatating: [9, 6, 1, 4, 5]\n"
     ]
    }
   ],
   "source": [
    "list_31 = [1,4,5,9,6]\n",
    "\n",
    "print(\"original list:\",str(list_31))\n",
    "\n",
    "list_31 = list_31[3:] + list_31[:3]\n",
    "\n",
    "print(\"list after roatating:\",str(list_31))\n"
   ]
  },
  {
   "cell_type": "markdown",
   "id": "6998d5bf",
   "metadata": {},
   "source": [
    "Q32) Rotate a list to the right by `n` positions."
   ]
  },
  {
   "cell_type": "code",
   "execution_count": null,
   "id": "182ad4c9",
   "metadata": {},
   "outputs": [
    {
     "name": "stdout",
     "output_type": "stream",
     "text": [
      "original list: [1, 4, 5, 9, 6]\n",
      "list after roatating: [5, 9, 6, 1, 4]\n"
     ]
    }
   ],
   "source": [
    "list_32 = [1,4,5,9,6]\n",
    "\n",
    "print(\"original list:\",str(list_32))\n",
    "\n",
    "list_32 = list_32[-3:] + list_32[:-3]\n",
    "\n",
    "print(\"list after roatating:\",str(list_32))"
   ]
  },
  {
   "cell_type": "markdown",
   "id": "86592e8c",
   "metadata": {},
   "source": [
    "Q33) Create a list of prime numbers up to 50."
   ]
  },
  {
   "cell_type": "code",
   "execution_count": null,
   "id": "67e54284",
   "metadata": {},
   "outputs": [
    {
     "name": "stdout",
     "output_type": "stream",
     "text": [
      "[2, 3, 5, 7, 11, 13, 17, 19, 23, 29, 31, 37, 41, 43, 47]\n"
     ]
    }
   ],
   "source": [
    "print([i for i in range(2, 50) if 0 not in [i%n for n in range(2, i)]])"
   ]
  },
  {
   "cell_type": "markdown",
   "id": "0a1c875f",
   "metadata": {},
   "source": [
    "Q34) Split a list into chunks of size `n`."
   ]
  },
  {
   "cell_type": "code",
   "execution_count": 1,
   "id": "c9af2d1f",
   "metadata": {},
   "outputs": [
    {
     "name": "stdout",
     "output_type": "stream",
     "text": [
      "[[1, 2], [3, 4], [5, 6], [7, 8], [9, 10]]\n"
     ]
    }
   ],
   "source": [
    "l= list(range(1,11))\n",
    "n= int(input(\"Enter chunk size\"))\n",
    "t = []\n",
    "i = 0\n",
    "while i <len(l):\n",
    "    t.append(l[i:n+i])\n",
    "    i= i + n\n",
    "print(t)"
   ]
  },
  {
   "cell_type": "markdown",
   "id": "ed7afefa",
   "metadata": {},
   "source": [
    "Q35) Find the second largest number in a list."
   ]
  },
  {
   "cell_type": "code",
   "execution_count": 2,
   "id": "573f9a56",
   "metadata": {},
   "outputs": [
    {
     "name": "stdout",
     "output_type": "stream",
     "text": [
      "Second largest element is: 45\n"
     ]
    }
   ],
   "source": [
    "list_35 = [10, 20, 20, 4, 45, 45, 45, 99, 99]\n",
    "  \n",
    "list_new= list(set(list_35))\n",
    " \n",
    "list_new.sort()\n",
    " \n",
    "# Printing the second last element\n",
    "print(\"Second largest element is:\", list_new[- 2])"
   ]
  },
  {
   "cell_type": "markdown",
   "id": "316434f4",
   "metadata": {},
   "source": [
    "Q36) Replace every element in a list with its square."
   ]
  },
  {
   "cell_type": "code",
   "execution_count": 3,
   "id": "b323d99c",
   "metadata": {},
   "outputs": [
    {
     "name": "stdout",
     "output_type": "stream",
     "text": [
      "[1, 16, 9, 16, 25]\n"
     ]
    }
   ],
   "source": [
    "def square_list(list1):\n",
    "    for i in list1:\n",
    "        list1[list1.index(i)] = i**2\n",
    "    print(list1)\n",
    "\n",
    "square_list([1, 4, 3, 4, 5])"
   ]
  },
  {
   "cell_type": "markdown",
   "id": "79d3d40a",
   "metadata": {},
   "source": [
    "Q37) Convert a list to a dictionary where list elements become keys and their\n",
    "indices become values."
   ]
  },
  {
   "cell_type": "code",
   "execution_count": null,
   "id": "785e85ed",
   "metadata": {},
   "outputs": [
    {
     "name": "stdout",
     "output_type": "stream",
     "text": [
      "{'a': '1', 'b': '2', 'c': '3'}\n"
     ]
    }
   ],
   "source": [
    "list1 = [\"a\",\"b\",\"c\"]                                                  \n",
    "list2 = [\"1\",\"2\",\"3\"]                                                                                                                        \n",
    "mydict = {}                                                            \n",
    "for i,j in zip(list1,list2):                                           \n",
    "   mydict[i] = j                                                      \n",
    "print (mydict)"
   ]
  },
  {
   "cell_type": "markdown",
   "id": "5a88c62b",
   "metadata": {},
   "source": [
    "Q38) Shuffle the elements of a list randomly."
   ]
  },
  {
   "cell_type": "code",
   "execution_count": null,
   "id": "ad73816a",
   "metadata": {},
   "outputs": [
    {
     "name": "stdout",
     "output_type": "stream",
     "text": [
      "Shuffled list: [10, 80, 100, 70, 60, 30, 90, 50, 40, 20]\n"
     ]
    }
   ],
   "source": [
    "import random\n",
    "\n",
    "list_38 = [10, 20, 30, 40, 50, 60, 70, 80, 90, 100]\n",
    "\n",
    "random.shuffle(list_38)\n",
    "\n",
    "print(\"Shuffled list:\", list_38)"
   ]
  },
  {
   "cell_type": "markdown",
   "id": "89f413d2",
   "metadata": {},
   "source": [
    "Q39) Create a list of the first 10 factorial numbers."
   ]
  },
  {
   "cell_type": "code",
   "execution_count": null,
   "id": "a8055672",
   "metadata": {},
   "outputs": [
    {
     "name": "stdout",
     "output_type": "stream",
     "text": [
      "[1, 1, 2, 6, 12, 20, 30, 42, 56, 72]\n"
     ]
    }
   ],
   "source": [
    "list_39 = [1] + [i for i in range(1,10)]\n",
    "list_39[1:10] = [list_39[i-1] * i for i in range(1,10)]\n",
    "print(list_39)"
   ]
  },
  {
   "cell_type": "markdown",
   "id": "aa07226d",
   "metadata": {},
   "source": [
    "Q40)Check if two lists have at least one element in common."
   ]
  },
  {
   "cell_type": "code",
   "execution_count": null,
   "id": "4ee3151b",
   "metadata": {},
   "outputs": [
    {
     "name": "stdout",
     "output_type": "stream",
     "text": [
      "The given set have atleast  one element in common\n"
     ]
    }
   ],
   "source": [
    "list1 = [1,2,3,4,5]\n",
    "list2 =[5,6,7,8]\n",
    "\n",
    "if set(list1).intersection (list2):\n",
    "    print(\"The given set have atleast  one element in common\")\n",
    "else:\n",
    "    print(\"No commom element present\")\n",
    "\n",
    "            \n"
   ]
  },
  {
   "cell_type": "markdown",
   "id": "47882cec",
   "metadata": {},
   "source": [
    "Q41) Check if two lists have at least one element in common."
   ]
  },
  {
   "cell_type": "code",
   "execution_count": null,
   "id": "561babfb",
   "metadata": {},
   "outputs": [
    {
     "name": "stdout",
     "output_type": "stream",
     "text": [
      "Empty list : []\n"
     ]
    }
   ],
   "source": [
    "list_41 = [1,2,3,4,5,6]\n",
    "list_41.clear()\n",
    "print(\"Empty list :\",list_41)"
   ]
  },
  {
   "cell_type": "markdown",
   "id": "32d8883f",
   "metadata": {},
   "source": [
    "Q42)Replace negative numbers in a list with 0."
   ]
  },
  {
   "cell_type": "code",
   "execution_count": null,
   "id": "25ba365e",
   "metadata": {},
   "outputs": [
    {
     "name": "stdout",
     "output_type": "stream",
     "text": [
      "List after replacing negative numbers with 0: [11, 0, 13, 0, 15, 0, 17]\n"
     ]
    }
   ],
   "source": [
    "list_42 = [11,-12,13,-14,15,-16,17]\n",
    "\n",
    "# Step 1: Iterate through the list and replace negative numbers with 0\n",
    "for i in range(len(list_42)):\n",
    "    if list_42[i] < 0:\n",
    "        list_42[i] = 0\n",
    "\n",
    "# Print the list after replacing negative numbers with 0\n",
    "print(\"List after replacing negative numbers with 0:\", list_42)"
   ]
  },
  {
   "cell_type": "markdown",
   "id": "2b223fbf",
   "metadata": {},
   "source": [
    "Q43) Convert a string into a list of words."
   ]
  },
  {
   "cell_type": "code",
   "execution_count": null,
   "id": "e61a7d54",
   "metadata": {},
   "outputs": [
    {
     "name": "stdout",
     "output_type": "stream",
     "text": [
      "List of words: ['Chandryaan', 'was', 'a', 'successful', 'mission']\n"
     ]
    }
   ],
   "source": [
    "string= \"Chandryaan was a successful mission\"\n",
    "\n",
    "list_43 = string.split()\n",
    "\n",
    "print(\"List of words:\", list_43)"
   ]
  },
  {
   "cell_type": "markdown",
   "id": "e5d3dfc2",
   "metadata": {},
   "source": [
    "Q44) Convert a list of words into a string."
   ]
  },
  {
   "cell_type": "code",
   "execution_count": null,
   "id": "df32792b",
   "metadata": {},
   "outputs": [
    {
     "name": "stdout",
     "output_type": "stream",
     "text": [
      "Converted string: Chandryaan was a successful mission\n"
     ]
    }
   ],
   "source": [
    "list_44 = ['Chandryaan', 'was', 'a', 'successful', 'mission']\n",
    "\n",
    "string = \" \".join(list_44)\n",
    "\n",
    "print(\"Converted string:\", string)"
   ]
  },
  {
   "cell_type": "markdown",
   "id": "adb04e79",
   "metadata": {},
   "source": [
    "Q45) Create a list of the first `n` powers of 2."
   ]
  },
  {
   "cell_type": "code",
   "execution_count": null,
   "id": "04ffda24",
   "metadata": {},
   "outputs": [
    {
     "name": "stdout",
     "output_type": "stream",
     "text": [
      "list of Power of two as follows: [1, 2, 4, 8, 16, 32, 64, 128, 256, 512]\n"
     ]
    }
   ],
   "source": [
    "n = 10\n",
    "powers_of_2 = [2**x for x in range(n)]\n",
    "print(\"list of Power of two as follows:\",powers_of_2)"
   ]
  },
  {
   "cell_type": "markdown",
   "id": "b436d5fc",
   "metadata": {},
   "source": [
    "Q46) Find the longest string in a list of strings."
   ]
  },
  {
   "cell_type": "code",
   "execution_count": null,
   "id": "2d9b1b06",
   "metadata": {},
   "outputs": [
    {
     "name": "stdout",
     "output_type": "stream",
     "text": [
      "The original list : ['python', 'is', 'great', 'language']\n",
      "Longest string in given list: language\n"
     ]
    }
   ],
   "source": [
    "test_list = [\"python\",\"is\", \"great\",\"language\"]\n",
    " \n",
    "\n",
    "print(\"The original list : \" + str(test_list))\n",
    " \n",
    "res = max(test_list, key = len)\n",
    " \n",
    "print(\"Longest string in given list: \" + res)"
   ]
  },
  {
   "cell_type": "markdown",
   "id": "7ec6d6cc",
   "metadata": {},
   "source": [
    "Q47) Find the shortest string in a list of strings."
   ]
  },
  {
   "cell_type": "code",
   "execution_count": null,
   "id": "25bc281a",
   "metadata": {},
   "outputs": [
    {
     "name": "stdout",
     "output_type": "stream",
     "text": [
      "The original list : ['python', 'is', 'great', 'language']\n",
      "Shortest string in given list: is\n"
     ]
    }
   ],
   "source": [
    "test_list = [\"python\",\"is\", \"great\",\"language\"]\n",
    " \n",
    "\n",
    "print(\"The original list : \" + str(test_list))\n",
    " \n",
    "res = min(test_list, key = len)\n",
    " \n",
    "print(\"Shortest string in given list: \" + res)"
   ]
  },
  {
   "cell_type": "markdown",
   "id": "cc51248d",
   "metadata": {},
   "source": [
    "Q48) Create a list of the first `n` triangular numbers."
   ]
  },
  {
   "cell_type": "code",
   "execution_count": null,
   "id": "4a305c5f",
   "metadata": {},
   "outputs": [
    {
     "name": "stdout",
     "output_type": "stream",
     "text": [
      "List of the first 5 triangular numbers: [1, 3, 6, 10, 15]\n"
     ]
    }
   ],
   "source": [
    "def triangular_numbers(n):\n",
    "    return [i * (i + 1) // 2 for i in range(1, n + 1)]\n",
    "\n",
    "n = 5\n",
    "\n",
    "triangular_list = triangular_numbers(n)\n",
    "\n",
    "print(\"List of the first\", n, \"triangular numbers:\", triangular_list)"
   ]
  },
  {
   "cell_type": "markdown",
   "id": "0a755912",
   "metadata": {},
   "source": [
    "Q49) Check if a list contains another list as a subsequence."
   ]
  },
  {
   "cell_type": "code",
   "execution_count": null,
   "id": "87b3edc1",
   "metadata": {},
   "outputs": [
    {
     "name": "stdout",
     "output_type": "stream",
     "text": [
      "The original list : [5, 6, 3, 8, 2, 1, 7, 1]\n",
      "Is sublist present in list ? : True\n"
     ]
    }
   ],
   "source": [
    "test_list = [5, 6, 3, 8, 2, 1, 7, 1]\n",
    " \n",
    "print(\"The original list : \" + str(test_list))\n",
    " \n",
    "sublist = [8, 2, 1]\n",
    " \n",
    "res = False\n",
    "for idx in range(len(test_list) - len(sublist) + 1):\n",
    "    if test_list[idx: idx + len(sublist)] == sublist:\n",
    "        res = True\n",
    "        break\n",
    " \n",
    "print(\"Is sublist present in list ? : \" + str(res))"
   ]
  },
  {
   "cell_type": "markdown",
   "id": "a0fd92f3",
   "metadata": {},
   "source": [
    "Q50) Swap two elements in a list by their indices."
   ]
  },
  {
   "cell_type": "code",
   "execution_count": null,
   "id": "393adb5b",
   "metadata": {},
   "outputs": [
    {
     "name": "stdout",
     "output_type": "stream",
     "text": [
      "List after swapping elements: [1, 3, 2, 4, 5]\n"
     ]
    }
   ],
   "source": [
    "list_50= [1, 2, 3, 4, 5]\n",
    "\n",
    "index1 = 1\n",
    "index2 = 2\n",
    "\n",
    "temp = list_50[index1]\n",
    "list_50[index1] = list_50[index2]\n",
    "list_50[index2] = temp\n",
    "\n",
    "print(\"List after swapping elements:\", list_50)"
   ]
  },
  {
   "cell_type": "markdown",
   "id": "59ee4d29",
   "metadata": {},
   "source": [
    "*Tuple*"
   ]
  },
  {
   "cell_type": "markdown",
   "id": "ea8208c3",
   "metadata": {},
   "source": [
    "Q1) Create a tuple with integers from 1 to 5."
   ]
  },
  {
   "cell_type": "code",
   "execution_count": null,
   "id": "8dbe1952",
   "metadata": {},
   "outputs": [
    {
     "name": "stdout",
     "output_type": "stream",
     "text": [
      "tuple with integers: (1, 2, 3, 4, 5)\n"
     ]
    }
   ],
   "source": [
    "tuple_1 = (1,2,3,4,5)\n",
    "\n",
    "print(\"tuple with integers:\",tuple_1)"
   ]
  },
  {
   "cell_type": "markdown",
   "id": "6c363ca6",
   "metadata": {},
   "source": [
    "Q2) Access the third element of a tuple."
   ]
  },
  {
   "cell_type": "code",
   "execution_count": null,
   "id": "613b1929",
   "metadata": {},
   "outputs": [
    {
     "name": "stdout",
     "output_type": "stream",
     "text": [
      "The third element of a tuple is : 100\n"
     ]
    }
   ],
   "source": [
    "tuple_2 = (11,25,100,51)\n",
    "\n",
    "third_ele = tuple_2[2]\n",
    "\n",
    "print(\"The third element of a tuple is :\",third_ele)"
   ]
  },
  {
   "cell_type": "markdown",
   "id": "b1214a2e",
   "metadata": {},
   "source": [
    "Q3) Find the length of a tuple without using the `len()` function."
   ]
  },
  {
   "cell_type": "code",
   "execution_count": null,
   "id": "1f53af69",
   "metadata": {},
   "outputs": [
    {
     "name": "stdout",
     "output_type": "stream",
     "text": [
      "The length of the given tuple is: 4\n"
     ]
    }
   ],
   "source": [
    "tuple_3 = (10,20,30,40)\n",
    "\n",
    "count = 0\n",
    "\n",
    "for i in tuple_3:\n",
    "    count += 1 #instead of len() function we can use count\n",
    "    \n",
    "print(\"The length of the given tuple is:\",count)"
   ]
  },
  {
   "cell_type": "markdown",
   "id": "1c148bf7",
   "metadata": {},
   "source": [
    "Q4) Count the occurrences of an element in a tuple."
   ]
  },
  {
   "cell_type": "code",
   "execution_count": null,
   "id": "8d11ae9a",
   "metadata": {},
   "outputs": [
    {
     "name": "stdout",
     "output_type": "stream",
     "text": [
      "the element 8 occurs 4 times\n"
     ]
    }
   ],
   "source": [
    "tuple_4=(10, 8, 5, 2, 10, 15, 10, 8, 5, 8, 8, 2)\n",
    "x=[i for a,i in enumerate(tuple_4) if i==8]\n",
    "print(\"the element 8 occurs\",len(x),\"times\")"
   ]
  },
  {
   "cell_type": "markdown",
   "id": "bd57dd12",
   "metadata": {},
   "source": [
    "Q5) Find the index of the first occurrence of an element in a tuple."
   ]
  },
  {
   "cell_type": "code",
   "execution_count": null,
   "id": "07975753",
   "metadata": {},
   "outputs": [
    {
     "name": "stdout",
     "output_type": "stream",
     "text": [
      "The occurance of 5 is:\n",
      " 3\n"
     ]
    }
   ],
   "source": [
    "tuple_5= [1,2,3,5,6]\n",
    "\n",
    "occ_of = 5\n",
    "\n",
    "result = tuple_5.index(occ_of)  #indexing always follow upper bound-1\n",
    "\n",
    "print(f\"The occurance of {occ_of} is:\\n\",result)"
   ]
  },
  {
   "cell_type": "markdown",
   "id": "01516de6",
   "metadata": {},
   "source": [
    "Q6)Check if an element exists in a tuple."
   ]
  },
  {
   "cell_type": "code",
   "execution_count": null,
   "id": "d6a09734",
   "metadata": {},
   "outputs": [
    {
     "name": "stdout",
     "output_type": "stream",
     "text": [
      "Element does not exist\n"
     ]
    }
   ],
   "source": [
    "tuple_6 = [10,20,30,40]\n",
    "\n",
    "ele = 50\n",
    "\n",
    "if ele in tuple_6:\n",
    "    print(\"The element exist in tuple\")\n",
    "else:\n",
    "    print(\"Element does not exist\")"
   ]
  },
  {
   "cell_type": "markdown",
   "id": "0b072f6c",
   "metadata": {},
   "source": [
    "Q7) Convert a tuple to a list."
   ]
  },
  {
   "cell_type": "code",
   "execution_count": null,
   "id": "a6e3e6ae",
   "metadata": {},
   "outputs": [
    {
     "name": "stdout",
     "output_type": "stream",
     "text": [
      "given tuple : (11, 12, 13, 14)\n",
      "The given tuple to list : [11, 12, 13, 14]\n"
     ]
    }
   ],
   "source": [
    "tuple_7 =(11,12,13,14)\n",
    "\n",
    "print(\"given tuple :\",tuple_7)\n",
    "\n",
    "print(\"The given tuple to list :\",list(tuple_7))"
   ]
  },
  {
   "cell_type": "markdown",
   "id": "2e74225a",
   "metadata": {},
   "source": [
    "Q8)Convert a list to a tuple."
   ]
  },
  {
   "cell_type": "code",
   "execution_count": null,
   "id": "88e8dc04",
   "metadata": {},
   "outputs": [
    {
     "name": "stdout",
     "output_type": "stream",
     "text": [
      "given tuple : [21, 22, 23, 24]\n",
      "The given list to tuple : (21, 22, 23, 24)\n"
     ]
    }
   ],
   "source": [
    "lis =[21,22,23,24]\n",
    "print(\"given tuple :\",lis)\n",
    "\n",
    "print(\"The given list to tuple :\",tuple(lis))"
   ]
  },
  {
   "cell_type": "markdown",
   "id": "7c1023f7",
   "metadata": {},
   "source": [
    "Q9) Unpack the elements of a tuple into variables."
   ]
  },
  {
   "cell_type": "code",
   "execution_count": null,
   "id": "b9d33529",
   "metadata": {},
   "outputs": [
    {
     "name": "stdout",
     "output_type": "stream",
     "text": [
      "a: 4\n",
      "b: 5\n",
      "c: 6\n"
     ]
    }
   ],
   "source": [
    "tuple_9 = [4,5,6]\n",
    "\n",
    "a, b, c = tuple_9\n",
    "\n",
    "print(\"a:\",a)\n",
    "print(\"b:\",b)\n",
    "print(\"c:\",c)"
   ]
  },
  {
   "cell_type": "markdown",
   "id": "5407d6d7",
   "metadata": {},
   "source": [
    "Q10) Create a tuple of even numbers from 1 to 10."
   ]
  },
  {
   "cell_type": "code",
   "execution_count": null,
   "id": "eb3f099c",
   "metadata": {},
   "outputs": [
    {
     "name": "stdout",
     "output_type": "stream",
     "text": [
      "Tuple of even no (2, 4, 6, 8, 10)\n"
     ]
    }
   ],
   "source": [
    "even_no = [num for num in range(2,11,2)]\n",
    "\n",
    "even_no = tuple(even_no)\n",
    "\n",
    "print(\"Tuple of even no\",even_no)"
   ]
  },
  {
   "cell_type": "markdown",
   "id": "20e79f8b",
   "metadata": {},
   "source": [
    "Q11) Create a tuple of odd numbers from 1 to 10."
   ]
  },
  {
   "cell_type": "code",
   "execution_count": null,
   "id": "e529a2ea",
   "metadata": {},
   "outputs": [
    {
     "name": "stdout",
     "output_type": "stream",
     "text": [
      "Tuple of even no (1, 3, 5, 7, 9)\n"
     ]
    }
   ],
   "source": [
    "odd_no = [num for num in range(1,11,2)]\n",
    "\n",
    "odd_no = tuple(odd_no)\n",
    "\n",
    "print(\"Tuple of even no\",odd_no)"
   ]
  },
  {
   "cell_type": "markdown",
   "id": "748abbf8",
   "metadata": {},
   "source": [
    "Q12) Concatenate two tuples."
   ]
  },
  {
   "cell_type": "code",
   "execution_count": null,
   "id": "a51e5c82",
   "metadata": {},
   "outputs": [
    {
     "name": "stdout",
     "output_type": "stream",
     "text": [
      "The concatenate of two tuples is: (10, 20, 30, 40, 50, 60, 70, 80)\n"
     ]
    }
   ],
   "source": [
    "tuple1 = (10,20,30,40)\n",
    "\n",
    "tuple2 = (50,60,70,80)\n",
    "\n",
    "tuple3 = tuple1 + tuple2\n",
    "print(\"The concatenate of two tuples is:\",tuple3)"
   ]
  },
  {
   "cell_type": "markdown",
   "id": "a277a218",
   "metadata": {},
   "source": [
    "Q13) Repeat a tuple three times."
   ]
  },
  {
   "cell_type": "code",
   "execution_count": null,
   "id": "637c3983",
   "metadata": {},
   "outputs": [
    {
     "name": "stdout",
     "output_type": "stream",
     "text": [
      "original tuples (31, 32, 33, 34, 35)\n",
      "repeated tuples: (31, 32, 33, 34, 35, 31, 32, 33, 34, 35, 31, 32, 33, 34, 35)\n"
     ]
    }
   ],
   "source": [
    "tuple_13 = (31,32,33,34,35)\n",
    "print(\"original tuples\",tuple_13)\n",
    "\n",
    "print(\"repeated tuples:\",tuple_13 * 3)"
   ]
  },
  {
   "cell_type": "markdown",
   "id": "62ba64b7",
   "metadata": {},
   "source": [
    "Q14) Check if a tuple is empty."
   ]
  },
  {
   "cell_type": "code",
   "execution_count": null,
   "id": "3e1afa07",
   "metadata": {},
   "outputs": [
    {
     "name": "stdout",
     "output_type": "stream",
     "text": [
      "tuple is not empty\n",
      "(1, 2, 3)\n"
     ]
    }
   ],
   "source": [
    "tuple_14=(1,2,3)\n",
    "\n",
    "if not tuple_14:\n",
    "    print (\"tuple is empty\")\n",
    "else:\n",
    "    print (\"tuple is not empty\")\n",
    "\n",
    "print(tuple_14)"
   ]
  },
  {
   "cell_type": "markdown",
   "id": "6662d5ee",
   "metadata": {},
   "source": [
    "Q15) Create a nested tuple."
   ]
  },
  {
   "cell_type": "code",
   "execution_count": null,
   "id": "1eb12101",
   "metadata": {},
   "outputs": [
    {
     "name": "stdout",
     "output_type": "stream",
     "text": [
      "Nested tuple : ((1, 2, 3), ('a', 'b', 'c'), (True, False))\n"
     ]
    }
   ],
   "source": [
    "nested_tuple = ((1,2,3),('a','b','c'),(True,False))\n",
    "\n",
    "print(\"Nested tuple :\",nested_tuple)"
   ]
  },
  {
   "cell_type": "markdown",
   "id": "48df42fe",
   "metadata": {},
   "source": [
    "Q16)  Access the first element of a nested tuple."
   ]
  },
  {
   "cell_type": "code",
   "execution_count": null,
   "id": "d562b48d",
   "metadata": {},
   "outputs": [
    {
     "name": "stdout",
     "output_type": "stream",
     "text": [
      "Second elemet of Nested tuple : ('a', 'b', 'c')\n"
     ]
    }
   ],
   "source": [
    "nested_tuple = ((1,2,3),('a','b','c'),(True,False))\n",
    "\n",
    "sec_ele = nested_tuple[1]\n",
    "\n",
    "print(\"Second elemet of Nested tuple :\",sec_ele)"
   ]
  },
  {
   "cell_type": "markdown",
   "id": "8702e7b5",
   "metadata": {},
   "source": [
    "Q17) Create a tuple with a single element."
   ]
  },
  {
   "cell_type": "code",
   "execution_count": null,
   "id": "06747dff",
   "metadata": {},
   "outputs": [
    {
     "name": "stdout",
     "output_type": "stream",
     "text": [
      "A tuple with single element : 7\n"
     ]
    }
   ],
   "source": [
    "tuple_17 = (7)\n",
    "\n",
    "print(\"A tuple with single element :\",tuple_17)"
   ]
  },
  {
   "cell_type": "markdown",
   "id": "d930d5aa",
   "metadata": {},
   "source": [
    "Q18) Compare two tuples."
   ]
  },
  {
   "cell_type": "code",
   "execution_count": null,
   "id": "343fd505",
   "metadata": {},
   "outputs": [
    {
     "name": "stdout",
     "output_type": "stream",
     "text": [
      "tuple1 == tuple2: False\n",
      "tuple1 != tuple2: True\n",
      "tuple1 < tuple2: True\n",
      "tuple1 <= tuple2: True\n",
      "tuple1 > tuple2: False\n",
      "tuple1 >= tuple2: False\n"
     ]
    }
   ],
   "source": [
    "tuple1 = (10, 20, 30)\n",
    "tuple2 = (11, 12, 14)\n",
    "\n",
    "print(\"tuple1 == tuple2:\", tuple1 == tuple2)  # Equality check\n",
    "print(\"tuple1 != tuple2:\", tuple1 != tuple2)  # Inequality check\n",
    "print(\"tuple1 < tuple2:\", tuple1 < tuple2)    # Less than check\n",
    "print(\"tuple1 <= tuple2:\", tuple1 <= tuple2)  # Less than or equal to check\n",
    "print(\"tuple1 > tuple2:\", tuple1 > tuple2)    # Greater than check\n",
    "print(\"tuple1 >= tuple2:\", tuple1 >= tuple2)  # Greater than or equal to check"
   ]
  },
  {
   "cell_type": "markdown",
   "id": "cf7a01b5",
   "metadata": {},
   "source": [
    "Q19) Delete a tuple."
   ]
  },
  {
   "cell_type": "code",
   "execution_count": null,
   "id": "b542a67c",
   "metadata": {},
   "outputs": [
    {
     "ename": "NameError",
     "evalue": "name 'thistuple' is not defined",
     "output_type": "error",
     "traceback": [
      "\u001b[1;31m---------------------------------------------------------------------------\u001b[0m",
      "\u001b[1;31mNameError\u001b[0m                                 Traceback (most recent call last)",
      "Cell \u001b[1;32mIn[163], line 3\u001b[0m\n\u001b[0;32m      1\u001b[0m thistuple \u001b[39m=\u001b[39m (\u001b[39m\"\u001b[39m\u001b[39mapple\u001b[39m\u001b[39m\"\u001b[39m, \u001b[39m\"\u001b[39m\u001b[39mbanana\u001b[39m\u001b[39m\"\u001b[39m, \u001b[39m\"\u001b[39m\u001b[39mcherry\u001b[39m\u001b[39m\"\u001b[39m)\n\u001b[0;32m      2\u001b[0m \u001b[39mdel\u001b[39;00m thistuple\n\u001b[1;32m----> 3\u001b[0m \u001b[39mprint\u001b[39m(thistuple)\n",
      "\u001b[1;31mNameError\u001b[0m: name 'thistuple' is not defined"
     ]
    }
   ],
   "source": [
    "thistuple = (\"apple\", \"banana\", \"cherry\")\n",
    "del thistuple\n",
    "print(thistuple)"
   ]
  },
  {
   "cell_type": "markdown",
   "id": "8530e049",
   "metadata": {},
   "source": [
    "Q20) Slice a tuple."
   ]
  },
  {
   "cell_type": "code",
   "execution_count": null,
   "id": "5a5f491b",
   "metadata": {},
   "outputs": [
    {
     "name": "stdout",
     "output_type": "stream",
     "text": [
      "Sliced tuple: (14, 15, 16, 17)\n"
     ]
    }
   ],
   "source": [
    "tuple_20 = (11, 12, 13, 14, 15, 16, 17, 18, 19, 20)\n",
    "\n",
    "sliced_tuple = tuple_20[3:7]  \n",
    "\n",
    "print(\"Sliced tuple:\", sliced_tuple)"
   ]
  },
  {
   "cell_type": "markdown",
   "id": "7083a1c2",
   "metadata": {},
   "source": [
    "Q21) Find the maximum value in a tuple."
   ]
  },
  {
   "cell_type": "code",
   "execution_count": null,
   "id": "3ca18f6c",
   "metadata": {},
   "outputs": [
    {
     "name": "stdout",
     "output_type": "stream",
     "text": [
      "The max value of all elements in given list is : 455\n"
     ]
    }
   ],
   "source": [
    "tuple_21 = [1,7,455,4,112,60]\n",
    "\n",
    "total = 0\n",
    "\n",
    "for i in range (0,len(tuple_21)):\n",
    "    total = max(tuple_21)\n",
    "\n",
    "print(\"The max value of all elements in given list is :\",total)"
   ]
  },
  {
   "cell_type": "markdown",
   "id": "9f6365bb",
   "metadata": {},
   "source": [
    "Q22)Find the minimum value in a tuple."
   ]
  },
  {
   "cell_type": "code",
   "execution_count": null,
   "id": "6ddc7f1a",
   "metadata": {},
   "outputs": [
    {
     "name": "stdout",
     "output_type": "stream",
     "text": [
      "The max value of all elements in given list is : 51\n"
     ]
    }
   ],
   "source": [
    "tuple_22 = [51,70,455,84,112,60]\n",
    "\n",
    "total = 0\n",
    "\n",
    "for i in range (0,len(tuple_22)):\n",
    "    total = min(tuple_22)\n",
    "\n",
    "print(\"The max value of all elements in given list is :\",total)"
   ]
  },
  {
   "cell_type": "markdown",
   "id": "b526e710",
   "metadata": {},
   "source": [
    "Q23) Convert a string to a tuple of characters."
   ]
  },
  {
   "cell_type": "code",
   "execution_count": null,
   "id": "3679fa31",
   "metadata": {},
   "outputs": [
    {
     "name": "stdout",
     "output_type": "stream",
     "text": [
      "Before converting: pw skills\n",
      "After converting string to tuple ('p', 'w', ' ', 's', 'k', 'i', 'l', 'l', 's')\n"
     ]
    }
   ],
   "source": [
    "my_string = (\"pw skills\")\n",
    "print(\"Before converting:\",my_string)\n",
    "\n",
    "converted_tuple = tuple(my_string)\n",
    "print(\"After converting string to tuple\",converted_tuple)"
   ]
  },
  {
   "cell_type": "markdown",
   "id": "50051204",
   "metadata": {},
   "source": [
    "Q24) Convert a tuple of characters to a string."
   ]
  },
  {
   "cell_type": "code",
   "execution_count": null,
   "id": "37932c70",
   "metadata": {},
   "outputs": [
    {
     "name": "stdout",
     "output_type": "stream",
     "text": [
      "Before converting: ('p', 'w', ' ', 's', 'k', 'i', 'l', 'l', 's')\n",
      "After converting tuple to string: pw skills\n"
     ]
    }
   ],
   "source": [
    "my_tuple = ('p', 'w', ' ', 's', 'k', 'i', 'l', 'l', 's')\n",
    "print(\"Before converting:\",my_tuple)\n",
    "\n",
    "converted_string = ''.join(my_tuple)\n",
    "print(\"After converting tuple to string:\",converted_string)\n",
    "\n"
   ]
  },
  {
   "cell_type": "markdown",
   "id": "3fb6a071",
   "metadata": {},
   "source": [
    "Q25)  Create a tuple from multiple data types."
   ]
  },
  {
   "cell_type": "code",
   "execution_count": null,
   "id": "63fa2471",
   "metadata": {},
   "outputs": [
    {
     "name": "stdout",
     "output_type": "stream",
     "text": [
      "The mixed tuple : (25, True, 3.7, 'apple')\n"
     ]
    }
   ],
   "source": [
    "tuple_25 =(25,True,3.7,\"apple\")\n",
    "\n",
    "print(\"The mixed tuple :\",tuple_25)"
   ]
  },
  {
   "cell_type": "markdown",
   "id": "728246f7",
   "metadata": {},
   "source": [
    "Q26) Check if two tuples are identical."
   ]
  },
  {
   "cell_type": "code",
   "execution_count": null,
   "id": "7e7c7fd9",
   "metadata": {},
   "outputs": [
    {
     "name": "stdout",
     "output_type": "stream",
     "text": [
      "The given tuples are not identical\n",
      "The given tuples are identical\n"
     ]
    }
   ],
   "source": [
    "Tuple1 = (71,72,73,74)\n",
    "\n",
    "Tuple2 = (74,75,76,78)\n",
    "\n",
    "Tuple3 =(71,72,73,74)\n",
    "\n",
    "if Tuple1 == Tuple2 :\n",
    "    print(\"The given tuples are identical\")\n",
    "else:\n",
    "    print(\"The given tuples are not identical\")\n",
    "\n",
    "if Tuple1 == Tuple3:\n",
    "    print(\"The given tuples are identical\")\n",
    "else:\n",
    "    print(\"The given tuples are not identical\")\n"
   ]
  },
  {
   "cell_type": "markdown",
   "id": "43484c0b",
   "metadata": {},
   "source": [
    "Q27) Sort the elements of a tuple."
   ]
  },
  {
   "cell_type": "code",
   "execution_count": null,
   "id": "f6ef538c",
   "metadata": {},
   "outputs": [
    {
     "name": "stdout",
     "output_type": "stream",
     "text": [
      "Sorted tuples : (13, 19, 21, 54, 87, 90, 100, 150)\n"
     ]
    }
   ],
   "source": [
    "tuple_27 = (87,54,21,13,19,90,100,150)\n",
    "\n",
    "sorted_tuple = tuple(sorted(tuple_27))\n",
    "\n",
    "print(\"Sorted tuples :\",sorted_tuple)"
   ]
  },
  {
   "cell_type": "markdown",
   "id": "4193c78b",
   "metadata": {},
   "source": [
    "Q28) Convert a tuple of integers to a tuple of strings."
   ]
  },
  {
   "cell_type": "code",
   "execution_count": null,
   "id": "4269fc69",
   "metadata": {},
   "outputs": [
    {
     "name": "stdout",
     "output_type": "stream",
     "text": [
      "Converted string : ('10', '20', '30', '40', '50')\n"
     ]
    }
   ],
   "source": [
    "tuple_28 = (10,20,30,40,50)\n",
    "\n",
    "x=[str(i) for i in tuple_28]\n",
    "\n",
    "print(\"Converted string :\",tuple(x))"
   ]
  },
  {
   "cell_type": "markdown",
   "id": "25bd0040",
   "metadata": {},
   "source": [
    "Q29) Convert a tuple of strings to a tuple of integers."
   ]
  },
  {
   "cell_type": "code",
   "execution_count": null,
   "id": "b684200f",
   "metadata": {},
   "outputs": [
    {
     "name": "stdout",
     "output_type": "stream",
     "text": [
      "Converted string : (1, 4, 3, 6, 7)\n"
     ]
    }
   ],
   "source": [
    "tuple_29 = ('1', '4', '3', '6', '7')\n",
    "\n",
    "x=[int(i) for i in tuple_29]\n",
    "\n",
    "print(\"Converted string :\",tuple(x))"
   ]
  },
  {
   "cell_type": "markdown",
   "id": "6123cb1d",
   "metadata": {},
   "source": [
    "Q30) Merge two tuples."
   ]
  },
  {
   "cell_type": "code",
   "execution_count": null,
   "id": "21f35e4b",
   "metadata": {},
   "outputs": [
    {
     "name": "stdout",
     "output_type": "stream",
     "text": [
      "Merged tuples : (51, 52, 53, 54, 55, 56, 57, 58, 59, 60)\n"
     ]
    }
   ],
   "source": [
    "tuple1 = (51,52,53,54,55)\n",
    "\n",
    "tuple2 = (56,57,58,59,60)\n",
    "\n",
    "tuple3 = tuple1 + tuple2\n",
    "\n",
    "print(\"Merged tuples :\",tuple3)"
   ]
  },
  {
   "cell_type": "markdown",
   "id": "065a7810",
   "metadata": {},
   "source": [
    "Q31) Flatten a nested tuple."
   ]
  },
  {
   "cell_type": "code",
   "execution_count": null,
   "id": "039f5741",
   "metadata": {},
   "outputs": [
    {
     "name": "stdout",
     "output_type": "stream",
     "text": [
      "Flattened tuple: (10, 20, 30, 40, 50, 60, 70, 80)\n"
     ]
    }
   ],
   "source": [
    "def flatten_tuple(nested_tuple):\n",
    "    flattened = []\n",
    "    for item in nested_tuple:\n",
    "        if isinstance(item, tuple):\n",
    "            flattened.extend(flatten_tuple(item))\n",
    "        else:\n",
    "            flattened.append(item)\n",
    "    return flattened\n",
    "\n",
    "nested_tuple = ((10, 20), (30, 40, 50), (60, (70, 80)))\n",
    "\n",
    "flattened_tuple = tuple(flatten_tuple(nested_tuple))\n",
    "\n",
    "print(\"Flattened tuple:\", flattened_tuple)"
   ]
  },
  {
   "cell_type": "markdown",
   "id": "ea9eb0ea",
   "metadata": {},
   "source": [
    "Q31) Create a tuple of the first 5 prime numbers."
   ]
  },
  {
   "cell_type": "code",
   "execution_count": 20,
   "id": "699ef99d",
   "metadata": {},
   "outputs": [
    {
     "name": "stdout",
     "output_type": "stream",
     "text": [
      "(2, 3, 5, 7, 11)\n"
     ]
    }
   ],
   "source": [
    "def is_prime(n):\n",
    "    if n <= 1:\n",
    "        return False\n",
    "    if n <= 3:\n",
    "        return True\n",
    "    if n % 2 == 0 or n % 3 == 0:\n",
    "        return False\n",
    "    i = 5\n",
    "    while i * i <= n:\n",
    "        if n % i == 0 or n % (i + 2) == 0:\n",
    "            return False\n",
    "        i += 6\n",
    "    return True\n",
    "\n",
    "prime_numbers = []\n",
    "num = 2\n",
    "while len(prime_numbers) < 5:\n",
    "    if is_prime(num):\n",
    "        prime_numbers.append(num)\n",
    "    num += 1\n",
    "\n",
    "prime_tuple = tuple(prime_numbers)\n",
    "print(prime_tuple)"
   ]
  },
  {
   "cell_type": "markdown",
   "id": "8cac4cc5",
   "metadata": {},
   "source": [
    "Q33) Check if a tuple is a palindrome."
   ]
  },
  {
   "cell_type": "code",
   "execution_count": 37,
   "id": "26d10b8d",
   "metadata": {},
   "outputs": [
    {
     "name": "stdout",
     "output_type": "stream",
     "text": [
      "the given tuple is palindrome\n"
     ]
    }
   ],
   "source": [
    "tuple_33 = (10,30,30,10)\n",
    "tuple_new = tuple_33[::-1]\n",
    "\n",
    "if tuple_33 == tuple_new:\n",
    "    print(\"the given tuple is palindrome\")\n",
    "else:\n",
    "    print(\"the given tuple is not palindrome\")"
   ]
  },
  {
   "cell_type": "markdown",
   "id": "a18cb1b5",
   "metadata": {},
   "source": [
    "Q34) Create a tuple of squares of numbers from 1 to 5."
   ]
  },
  {
   "cell_type": "code",
   "execution_count": 38,
   "id": "0716c0a6",
   "metadata": {},
   "outputs": [
    {
     "name": "stdout",
     "output_type": "stream",
     "text": [
      "Tuple of squares: (1, 4, 9, 16, 25)\n"
     ]
    }
   ],
   "source": [
    "squares_tuple = tuple(x ** 2 for x in range(1, 6))\n",
    "\n",
    "print(\"Tuple of squares:\", squares_tuple)"
   ]
  },
  {
   "cell_type": "markdown",
   "id": "318088f0",
   "metadata": {},
   "source": [
    "Q35) Filter out all even numbers from a tuple."
   ]
  },
  {
   "cell_type": "code",
   "execution_count": 47,
   "id": "9cd5f7a4",
   "metadata": {},
   "outputs": [
    {
     "name": "stdout",
     "output_type": "stream",
     "text": [
      "Filtered tuple : (11, 13, 15)\n"
     ]
    }
   ],
   "source": [
    "tuple_35 = (11, 12, 13, 14, 15)\n",
    " \n",
    "new_tuple = tuple(num for num in tuple_35 if num % 2 != 0)\n",
    "\n",
    "print(\"Filtered tuple :\",new_tuple)"
   ]
  },
  {
   "cell_type": "markdown",
   "id": "4d22fe11",
   "metadata": {},
   "source": [
    "Q36) Multiply all elements in a tuple by 2."
   ]
  },
  {
   "cell_type": "code",
   "execution_count": 48,
   "id": "110fd6ac",
   "metadata": {},
   "outputs": [
    {
     "name": "stdout",
     "output_type": "stream",
     "text": [
      "Doubled tuple (20, 40, 60, 80, 100)\n"
     ]
    }
   ],
   "source": [
    "tuple_36 = (10,20,30,40,50)\n",
    "\n",
    "doubled_tuple = tuple(num*2 for num in tuple_36)\n",
    "\n",
    "print(\"Doubled tuple\",doubled_tuple)"
   ]
  },
  {
   "cell_type": "markdown",
   "id": "ff26fa81",
   "metadata": {},
   "source": [
    "Q37) Create a tuple of random numbers."
   ]
  },
  {
   "cell_type": "code",
   "execution_count": 53,
   "id": "d61c8deb",
   "metadata": {},
   "outputs": [
    {
     "name": "stdout",
     "output_type": "stream",
     "text": [
      "Random Tuple : (38, 12, 9, 4, 4, 18, 42, 50, 45, 42, 19, 27, 21, 25, 21, 6, 35, 22, 10, 5)\n"
     ]
    }
   ],
   "source": [
    "import random\n",
    "random_tuple = tuple(random.randint(1,50) for _ in range(20))\n",
    "\n",
    "print(\"Random Tuple :\",random_tuple)"
   ]
  },
  {
   "cell_type": "markdown",
   "id": "ab8ef417",
   "metadata": {},
   "source": [
    "Q38) Check if a tuple is sorted."
   ]
  },
  {
   "cell_type": "code",
   "execution_count": 57,
   "id": "b915b379",
   "metadata": {},
   "outputs": [
    {
     "name": "stdout",
     "output_type": "stream",
     "text": [
      "The given tuple is not sorted\n"
     ]
    }
   ],
   "source": [
    "tuple_38 = (1,9,15,25,5)\n",
    "\n",
    "if tuple_38 == tuple(sorted(tuple_38, reverse = True)):\n",
    "    print(\"Given tuple is sorted\")\n",
    "\n",
    "elif tuple_38 == tuple(sorted(tuple_38)):\n",
    "    print (\"Given tuple is sorted\")\n",
    "\n",
    "else:\n",
    "    print(\"The given tuple is not sorted\")\n"
   ]
  },
  {
   "cell_type": "markdown",
   "id": "6a6bb608",
   "metadata": {},
   "source": [
    "Q39) Rotate a tuple to the left by `n` positions."
   ]
  },
  {
   "cell_type": "code",
   "execution_count": 78,
   "id": "7cd1a431",
   "metadata": {},
   "outputs": [
    {
     "name": "stdout",
     "output_type": "stream",
     "text": [
      "Original tuple (1, 2, 3, 4, 5, 6)\n",
      "Updated tuple : (5, 6, 1, 2, 3, 4)\n"
     ]
    }
   ],
   "source": [
    "tuple_39 = (1,2,3,4,5,6)\n",
    "print(\"Original tuple\",tuple_39)\n",
    "\n",
    "tuple_39 = tuple(tuple_39[4:] + tuple_39[:4])\n",
    "print(\"Updated tuple :\",(tuple_39))\n"
   ]
  },
  {
   "cell_type": "markdown",
   "id": "d4446de4",
   "metadata": {},
   "source": [
    "Q40) Rotate a tuple to the right by `n` positions."
   ]
  },
  {
   "cell_type": "code",
   "execution_count": 79,
   "id": "c501839d",
   "metadata": {},
   "outputs": [
    {
     "name": "stdout",
     "output_type": "stream",
     "text": [
      "Original tuple (1, 2, 3, 4, 5, 6)\n",
      "Updated tuple : (3, 4, 5, 6, 1, 2)\n"
     ]
    }
   ],
   "source": [
    "tuple_40 = (1,2,3,4,5,6)\n",
    "print(\"Original tuple\",tuple_40)\n",
    "\n",
    "tuple_40 = tuple(tuple_40[-4:] + tuple_40[:-4])\n",
    "print(\"Updated tuple :\",(tuple_40))"
   ]
  },
  {
   "cell_type": "markdown",
   "id": "1c91c314",
   "metadata": {},
   "source": [
    "Q41) Create a tuple of the first 5 Fibonacci numbers."
   ]
  },
  {
   "cell_type": "code",
   "execution_count": 87,
   "id": "a5d0ff0a",
   "metadata": {},
   "outputs": [
    {
     "name": "stdout",
     "output_type": "stream",
     "text": [
      "(0, 1, 1, 2, 3)\n"
     ]
    }
   ],
   "source": [
    "fibonacci_numbers =[0, 1]\n",
    "for i in range(2,5):\n",
    "    fibonacci_numbers.append(fibonacci_numbers[i-1]+fibonacci_numbers[i-2])\n",
    "print(tuple(fibonacci_numbers))"
   ]
  },
  {
   "cell_type": "markdown",
   "id": "e05dd1d6",
   "metadata": {},
   "source": [
    "Q42) Create a tuple from user input."
   ]
  },
  {
   "cell_type": "code",
   "execution_count": 91,
   "id": "75352bb1",
   "metadata": {},
   "outputs": [
    {
     "name": "stdout",
     "output_type": "stream",
     "text": [
      "User input tuple: ('c', '', 'e', '', '', 'l', 'e', '', '', 's', 't', 'y')\n"
     ]
    }
   ],
   "source": [
    "input_str = input(\"Enter elements separated by commas: \")\n",
    "\n",
    "input_list = input_str.split(',')\n",
    "\n",
    "user_tuple = tuple(input_list)\n",
    "\n",
    "print(\"User input tuple:\", user_tuple)"
   ]
  },
  {
   "cell_type": "markdown",
   "id": "8cbc4c4d",
   "metadata": {},
   "source": [
    "Q43) Swap two elements in a tuple."
   ]
  },
  {
   "cell_type": "code",
   "execution_count": 205,
   "id": "42476bce",
   "metadata": {},
   "outputs": [
    {
     "name": "stdout",
     "output_type": "stream",
     "text": [
      "Swapped tuple: (10, 40, 30, 20, 50)\n"
     ]
    }
   ],
   "source": [
    "my_tuple = (10, 20, 30, 40, 50)\n",
    "\n",
    "index1 = 1\n",
    "index2 = 3\n",
    "swapped_tuple = tuple(\n",
    "    my_tuple[i] if i not in (index1, index2) else\n",
    "    my_tuple[index2] if i == index1 else\n",
    "    my_tuple[index1]\n",
    "    for i in range(len(my_tuple))\n",
    ")\n",
    "\n",
    "\n",
    "print(\"Swapped tuple:\", swapped_tuple)"
   ]
  },
  {
   "cell_type": "markdown",
   "id": "c2b49366",
   "metadata": {},
   "source": [
    "Q44) Reverse the elements of a tuple."
   ]
  },
  {
   "cell_type": "code",
   "execution_count": 207,
   "id": "e24cce59",
   "metadata": {},
   "outputs": [
    {
     "name": "stdout",
     "output_type": "stream",
     "text": [
      "(76, 75, 74, 73, 72, 71)\n"
     ]
    }
   ],
   "source": [
    "\n",
    "def Reverse(tuples):\n",
    "\tnew_tup = tuples[::-1]\n",
    "\treturn new_tup\n",
    "\t\n",
    "\n",
    "tuples = (71,72,73,74,75,76)\n",
    "print(Reverse(tuples))\n"
   ]
  },
  {
   "cell_type": "markdown",
   "id": "a092426c",
   "metadata": {},
   "source": [
    "Q45) Create a tuple of the first `n` powers of 2."
   ]
  },
  {
   "cell_type": "code",
   "execution_count": 208,
   "id": "d103de5f",
   "metadata": {},
   "outputs": [
    {
     "name": "stdout",
     "output_type": "stream",
     "text": [
      "Tuple of the first 10 powers of 2: (1, 2, 4, 8, 16, 32, 64, 128, 256, 512)\n"
     ]
    }
   ],
   "source": [
    "n = 10\n",
    "\n",
    "powers_of_2_tuple = tuple(2 ** i for i in range(n))\n",
    "\n",
    "print(\"Tuple of the first\", n, \"powers of 2:\", powers_of_2_tuple)"
   ]
  },
  {
   "cell_type": "markdown",
   "id": "3ce4841f",
   "metadata": {},
   "source": [
    "Q46) Find the longest string in a tuple of strings."
   ]
  },
  {
   "cell_type": "code",
   "execution_count": 209,
   "id": "09cdde1a",
   "metadata": {},
   "outputs": [
    {
     "name": "stdout",
     "output_type": "stream",
     "text": [
      "Longest string: Python\n"
     ]
    }
   ],
   "source": [
    "string_tuple = ('Python','java','C','C++')\n",
    "\n",
    "longest_string =max(string_tuple, key=len)\n",
    "\n",
    "print(\"Longest string:\", longest_string)"
   ]
  },
  {
   "cell_type": "markdown",
   "id": "094e8f5c",
   "metadata": {},
   "source": [
    "Q47) Find the shortest string in a tuple of strings."
   ]
  },
  {
   "cell_type": "code",
   "execution_count": 211,
   "id": "2ad556b0",
   "metadata": {},
   "outputs": [
    {
     "name": "stdout",
     "output_type": "stream",
     "text": [
      "Shortest string: C\n"
     ]
    }
   ],
   "source": [
    "string_tuple = ('Python','java','C','C++')\n",
    "\n",
    "shortest_string =min(string_tuple, key=len)\n",
    "\n",
    "print(\"Shortest string:\", shortest_string)"
   ]
  },
  {
   "cell_type": "markdown",
   "id": "4bca7b60",
   "metadata": {},
   "source": [
    "Q48) Create a tuple of the first `n` triangular numbers."
   ]
  },
  {
   "cell_type": "code",
   "execution_count": 212,
   "id": "f324014e",
   "metadata": {},
   "outputs": [
    {
     "name": "stdout",
     "output_type": "stream",
     "text": [
      "Tuple of the first 7 triangular numbers: (1, 3, 6, 10, 15, 21, 28)\n"
     ]
    }
   ],
   "source": [
    "n = 7\n",
    "\n",
    "triangular_numbers_tuple = tuple((i * (i + 1)) // 2 for i in range(1, n + 1))\n",
    "\n",
    "print(\"Tuple of the first\", n, \"triangular numbers:\", triangular_numbers_tuple)"
   ]
  },
  {
   "cell_type": "markdown",
   "id": "5f699bd3",
   "metadata": {},
   "source": [
    "Q49) Check if a tuple contains another tuple as a subsequence."
   ]
  },
  {
   "cell_type": "code",
   "execution_count": 214,
   "id": "64b983ef",
   "metadata": {},
   "outputs": [
    {
     "name": "stdout",
     "output_type": "stream",
     "text": [
      "The elements of tuple 1 : (4, 1, 6)\n",
      "The elements of tuple 2 : (2, 4, 8, 1, 6, 5)\n",
      "tup1 is a subset of tup2\n"
     ]
    }
   ],
   "source": [
    "tup1 = (4, 1, 6)\n",
    "tup2 = (2, 4, 8, 1, 6, 5)\n",
    "print(\"The elements of tuple 1 : \" + str(tup1))\n",
    "print(\"The elements of tuple 2 : \" + str(tup2))\n",
    " \n",
    "isSubset = set(tup1).issubset(tup2)\n",
    "\n",
    "if isSubset : \n",
    "    print(\"tup1 is a subset of tup2\")\n",
    "else : \n",
    "    print(\"tup1 is not a subset of tup2\")"
   ]
  },
  {
   "cell_type": "markdown",
   "id": "77c6740b",
   "metadata": {},
   "source": [
    "Q50) Create a tuple of alternating 1s and 0s of length `n`."
   ]
  },
  {
   "cell_type": "code",
   "execution_count": 215,
   "id": "054d8f92",
   "metadata": {},
   "outputs": [
    {
     "name": "stdout",
     "output_type": "stream",
     "text": [
      "Tuple of alternating 1s and 0s: (0, 1, 0, 1, 0, 1, 0, 1, 0, 1)\n"
     ]
    }
   ],
   "source": [
    "n = 10\n",
    "\n",
    "alternating_tuple = tuple(i % 2 for i in range(n))\n",
    "\n",
    "print(\"Tuple of alternating 1s and 0s:\", alternating_tuple)"
   ]
  },
  {
   "cell_type": "markdown",
   "id": "8db84bb0",
   "metadata": {},
   "source": [
    "Sets"
   ]
  },
  {
   "cell_type": "markdown",
   "id": "ef186231",
   "metadata": {},
   "source": [
    "Q1) Create a set with integers from 1 to 5."
   ]
  },
  {
   "cell_type": "code",
   "execution_count": 216,
   "id": "18904f96",
   "metadata": {},
   "outputs": [
    {
     "name": "stdout",
     "output_type": "stream",
     "text": [
      "set: {1, 2, 3, 4, 5}\n"
     ]
    }
   ],
   "source": [
    "set1 = {1,2,3,4,5}\n",
    "\n",
    "print(\"set:\",set1)"
   ]
  },
  {
   "cell_type": "markdown",
   "id": "f665e3e4",
   "metadata": {},
   "source": [
    "Q2) Add an element to a set."
   ]
  },
  {
   "cell_type": "code",
   "execution_count": 220,
   "id": "5609fb24",
   "metadata": {},
   "outputs": [
    {
     "name": "stdout",
     "output_type": "stream",
     "text": [
      "Original set {1, 3, 4, 5, 6}\n",
      "Updated set : {1, 2, 3, 4, 5, 6}\n"
     ]
    }
   ],
   "source": [
    "set2 = {1,3,4,5,6}\n",
    "print(\"Original set\",set2)\n",
    "\n",
    "add_ele = 2\n",
    "set2.add (add_ele)\n",
    "\n",
    "print(\"Updated set :\",set2)"
   ]
  },
  {
   "cell_type": "markdown",
   "id": "6f5df1f0",
   "metadata": {},
   "source": [
    "Q3) Remove an element from a set."
   ]
  },
  {
   "cell_type": "code",
   "execution_count": 226,
   "id": "3a20cfc2",
   "metadata": {},
   "outputs": [
    {
     "name": "stdout",
     "output_type": "stream",
     "text": [
      "Original set : {1, 2, 3, 4, 5, 11}\n",
      "Updated set : {1, 2, 3, 4, 5}\n"
     ]
    }
   ],
   "source": [
    "set3 = {1,2,3,11,4,5}\n",
    "print(\"Original set :\",set3)\n",
    "remove_ele = 11\n",
    "set3.remove(remove_ele)\n",
    "print(\"Updated set :\",set3)"
   ]
  },
  {
   "cell_type": "markdown",
   "id": "67a072ef",
   "metadata": {},
   "source": [
    "Q4) Check if an element exists in a set."
   ]
  },
  {
   "cell_type": "code",
   "execution_count": 229,
   "id": "ea47f9f2",
   "metadata": {},
   "outputs": [
    {
     "name": "stdout",
     "output_type": "stream",
     "text": [
      "The number you entered is : 7\n",
      "Element dose not exist in set \n"
     ]
    }
   ],
   "source": [
    "set4 = {1,2,3,4,5,6}\n",
    "\n",
    "ele_check = int(input(\"Enter the number to check\"))\n",
    "print(\"The number you entered is :\",ele_check)\n",
    "\n",
    "if ele_check in set4:\n",
    "    print(\"Element exists in set\")\n",
    "else:\n",
    "    print(\"Element dose not exist in set \")"
   ]
  },
  {
   "cell_type": "markdown",
   "id": "0d8ae000",
   "metadata": {},
   "source": [
    "Q5) Find the length of a set without using the `len()` function."
   ]
  },
  {
   "cell_type": "code",
   "execution_count": 231,
   "id": "660b830e",
   "metadata": {},
   "outputs": [
    {
     "name": "stdout",
     "output_type": "stream",
     "text": [
      "Length of the set: 7\n"
     ]
    }
   ],
   "source": [
    "set5 = {11, 12, 13, 14, 15,16,100}\n",
    "count = 0\n",
    "\n",
    "for _ in set5:\n",
    "    \n",
    "    count += 1\n",
    "\n",
    "print(\"Length of the set:\", count)"
   ]
  },
  {
   "cell_type": "markdown",
   "id": "a8693ba8",
   "metadata": {},
   "source": [
    "Q6) Clear all elements from a set."
   ]
  },
  {
   "cell_type": "code",
   "execution_count": 233,
   "id": "c3a0ae40",
   "metadata": {},
   "outputs": [
    {
     "name": "stdout",
     "output_type": "stream",
     "text": [
      "Original set : {91, 92, 93, 94, 95}\n",
      "After clearing the set: set()\n"
     ]
    }
   ],
   "source": [
    "set6 = {91,92,93,94,95}\n",
    "print(\"Original set :\",set6)\n",
    "\n",
    "set6.clear()\n",
    "print(\"After clearing the set:\",set6)"
   ]
  },
  {
   "cell_type": "markdown",
   "id": "61da90e5",
   "metadata": {},
   "source": [
    "Q7) Create a set of even numbers from 1 to 10."
   ]
  },
  {
   "cell_type": "code",
   "execution_count": 240,
   "id": "7313c1e3",
   "metadata": {},
   "outputs": [
    {
     "name": "stdout",
     "output_type": "stream",
     "text": [
      "Set of even numbers : {2, 4, 6, 8, 10}\n"
     ]
    }
   ],
   "source": [
    "set7 = set(range(2,11,2))\n",
    "print(\"Set of even numbers :\",set7)"
   ]
  },
  {
   "cell_type": "markdown",
   "id": "f44a8b26",
   "metadata": {},
   "source": [
    "Q8) Create a set of odd numbers from 1 to 10."
   ]
  },
  {
   "cell_type": "code",
   "execution_count": 241,
   "id": "d6d019d4",
   "metadata": {},
   "outputs": [
    {
     "name": "stdout",
     "output_type": "stream",
     "text": [
      "Set of odd numbers : {1, 3, 5, 7, 9}\n"
     ]
    }
   ],
   "source": [
    "set8 = set(range(1,11,2))\n",
    "print(\"Set of odd numbers :\",set8)"
   ]
  },
  {
   "cell_type": "markdown",
   "id": "bc6a445e",
   "metadata": {},
   "source": [
    "Q9) Find the union of two sets."
   ]
  },
  {
   "cell_type": "code",
   "execution_count": 245,
   "id": "d8d82698",
   "metadata": {},
   "outputs": [
    {
     "name": "stdout",
     "output_type": "stream",
     "text": [
      "set 1 : {1, 2, 3, 4, 5}\n",
      "set 2: {6, 7, 8, 9, 10}\n",
      "Union of sets : {1, 2, 3, 4, 5, 6, 7, 8, 9, 10}\n"
     ]
    }
   ],
   "source": [
    "set_1 = {1,2,3,4,5}\n",
    "set_2 = {6,7,8,9,10}\n",
    "union_set = set_1.union (set_2)\n",
    "\n",
    "print(\"set 1 :\",set_1)\n",
    "print(\"set 2:\",set_2)\n",
    "print(\"Union of sets :\",union_set)\n"
   ]
  },
  {
   "cell_type": "markdown",
   "id": "2d84a1af",
   "metadata": {},
   "source": [
    "Q10) Find the intersection of two sets."
   ]
  },
  {
   "cell_type": "code",
   "execution_count": 247,
   "id": "a865a328",
   "metadata": {},
   "outputs": [
    {
     "name": "stdout",
     "output_type": "stream",
     "text": [
      "set 1 : {1, 2, 3, 4, 5, 6, 7}\n",
      "set 2: {6, 7, 8, 9, 10}\n",
      "Union of sets : {6, 7}\n"
     ]
    }
   ],
   "source": [
    "set_1 = {1,2,3,4,5,6,7}\n",
    "set_2 = {6,7,8,9,10}\n",
    "intersection_set = set_1.intersection (set_2)\n",
    "\n",
    "print(\"set 1 :\",set_1)\n",
    "print(\"set 2:\",set_2)\n",
    "print(\"Union of sets :\",intersection_set)"
   ]
  },
  {
   "cell_type": "markdown",
   "id": "42e7aeed",
   "metadata": {},
   "source": [
    "Q11) Find the difference between two sets."
   ]
  },
  {
   "cell_type": "code",
   "execution_count": 248,
   "id": "5920ded3",
   "metadata": {},
   "outputs": [
    {
     "name": "stdout",
     "output_type": "stream",
     "text": [
      "set 1 : {1, 2, 3, 4, 5, 6, 7}\n",
      "set 2: {6, 7, 8, 9, 10}\n",
      "Union of sets : {1, 2, 3, 4, 5}\n"
     ]
    }
   ],
   "source": [
    "set_1 = {1,2,3,4,5,6,7}\n",
    "set_2 = {6,7,8,9,10}\n",
    "diff_set = set_1.difference (set_2)\n",
    "\n",
    "print(\"set 1 :\",set_1)\n",
    "print(\"set 2:\",set_2)\n",
    "print(\"Union of sets :\",diff_set)"
   ]
  },
  {
   "cell_type": "markdown",
   "id": "4b5fe3f8",
   "metadata": {},
   "source": [
    "Q12) Check if a set is a subset of another set."
   ]
  },
  {
   "cell_type": "code",
   "execution_count": 249,
   "id": "250a45e7",
   "metadata": {},
   "outputs": [
    {
     "name": "stdout",
     "output_type": "stream",
     "text": [
      "Is set1 a subset of set2: True\n"
     ]
    }
   ],
   "source": [
    "set1 = {10, 20, 30}\n",
    "set2 = {10, 20, 30, 40, 50}\n",
    "\n",
    "is_subset = set1.issubset(set2)\n",
    "\n",
    "print(\"Is set1 a subset of set2:\", is_subset)"
   ]
  },
  {
   "cell_type": "markdown",
   "id": "778a2ec7",
   "metadata": {},
   "source": [
    "Q13) Check if a set is a superset of another set."
   ]
  },
  {
   "cell_type": "code",
   "execution_count": 251,
   "id": "02ed6468",
   "metadata": {},
   "outputs": [
    {
     "name": "stdout",
     "output_type": "stream",
     "text": [
      "set1 is a superset of set2\n"
     ]
    }
   ],
   "source": [
    "set1 = {11, 12, 13, 14, 15, 16}\n",
    "set2 = {12, 13}\n",
    "\n",
    "is_superset = set1.issuperset(set2)\n",
    "\n",
    "if is_superset:\n",
    "    print(\"set1 is a superset of set2\")\n",
    "else:\n",
    "    print(\"set1 is not a superset of set2\")"
   ]
  },
  {
   "cell_type": "markdown",
   "id": "b1f04ebc",
   "metadata": {},
   "source": [
    "Q14) Create a set from a list."
   ]
  },
  {
   "cell_type": "code",
   "execution_count": 252,
   "id": "bcc4f4fb",
   "metadata": {},
   "outputs": [
    {
     "name": "stdout",
     "output_type": "stream",
     "text": [
      "original list : [4, 5, 8, 3, 2, 9]\n",
      " set from list : {2, 3, 4, 5, 8, 9}\n"
     ]
    }
   ],
   "source": [
    "List = [4,5,8,3,2,9]\n",
    "\n",
    "set14 = set(List)\n",
    "\n",
    "print(\"original list :\",List)\n",
    "print(\" set from list :\",set14)\n"
   ]
  },
  {
   "cell_type": "markdown",
   "id": "7933e74a",
   "metadata": {},
   "source": [
    "Q15) Convert a set to a list."
   ]
  },
  {
   "cell_type": "code",
   "execution_count": 254,
   "id": "bb6b3cca",
   "metadata": {},
   "outputs": [
    {
     "name": "stdout",
     "output_type": "stream",
     "text": [
      "original list : {2, 3, 4, 5, 8, 9}\n",
      " list from set : [2, 3, 4, 5, 8, 9]\n"
     ]
    }
   ],
   "source": [
    "set15 = {4,5,8,3,2,9}\n",
    "\n",
    "List1 = list(set15)\n",
    "\n",
    "print(\"original list :\",set15)\n",
    "print(\" list from set :\",List1)"
   ]
  },
  {
   "cell_type": "markdown",
   "id": "407b69c2",
   "metadata": {},
   "source": [
    "Q16) Remove a random element from a set."
   ]
  },
  {
   "cell_type": "code",
   "execution_count": 260,
   "id": "297494d7",
   "metadata": {},
   "outputs": [
    {
     "name": "stdout",
     "output_type": "stream",
     "text": [
      "Original set: {64, 65, 61, 62, 63}\n",
      "Updated set after removing 65 : {64, 61, 62, 63}\n"
     ]
    }
   ],
   "source": [
    "import random\n",
    "my_set = {61, 62, 63, 64, 65}\n",
    "print(\"Original set:\", my_set)\n",
    "\n",
    "random_element = random.choice(list(my_set))\n",
    "my_set.remove(random_element)\n",
    "\n",
    "print(\"Updated set after removing\", random_element, \":\", my_set)"
   ]
  },
  {
   "cell_type": "markdown",
   "id": "a8153a77",
   "metadata": {},
   "source": [
    "Q17) Pop an element from a set."
   ]
  },
  {
   "cell_type": "code",
   "execution_count": 259,
   "id": "bbe3bef3",
   "metadata": {},
   "outputs": [
    {
     "name": "stdout",
     "output_type": "stream",
     "text": [
      "original set: {81, 82, 83, 84, 85}\n",
      "After popping the element: {82, 83, 84, 85}\n"
     ]
    }
   ],
   "source": [
    "set17 = {81,82,83,84,85}\n",
    "print(\"original set:\",set17)\n",
    "set17.pop()\n",
    "\n",
    "print(\"After popping the element:\",set17)"
   ]
  },
  {
   "cell_type": "markdown",
   "id": "bb250c34",
   "metadata": {},
   "source": [
    "Q18) Check if two sets have no elements in common."
   ]
  },
  {
   "cell_type": "code",
   "execution_count": 262,
   "id": "b5183cd1",
   "metadata": {},
   "outputs": [
    {
     "name": "stdout",
     "output_type": "stream",
     "text": [
      "The two sets have common elements: {14}\n"
     ]
    }
   ],
   "source": [
    "set1 = {11, 12, 13, 14}\n",
    "set2 = {14,15, 16, 17, 18}\n",
    "\n",
    "common_elements = set1.intersection(set2)\n",
    "\n",
    "if not common_elements:\n",
    "    print(\"The two sets have no elements in common.\")\n",
    "else:\n",
    "    print(\"The two sets have common elements:\", common_elements)"
   ]
  },
  {
   "cell_type": "markdown",
   "id": "7a99bef3",
   "metadata": {},
   "source": [
    "Q19) Find the symmetric difference between two sets."
   ]
  },
  {
   "cell_type": "code",
   "execution_count": 264,
   "id": "5067fd7a",
   "metadata": {},
   "outputs": [
    {
     "name": "stdout",
     "output_type": "stream",
     "text": [
      "symmetric difference between two set is : {1, 2, 4, 5}\n"
     ]
    }
   ],
   "source": [
    "set1 = {1, 2, 3}\n",
    "set2 = {3, 4, 5}\n",
    "\n",
    "result = set1.symmetric_difference(set2)\n",
    "print(\"symmetric difference between two set is :\",result)\n"
   ]
  },
  {
   "cell_type": "markdown",
   "id": "30e38d4e",
   "metadata": {},
   "source": [
    "Q20) Update a set with elements from another set."
   ]
  },
  {
   "cell_type": "code",
   "execution_count": 266,
   "id": "a059f7c0",
   "metadata": {},
   "outputs": [
    {
     "name": "stdout",
     "output_type": "stream",
     "text": [
      "Set 1: {91, 92, 93}\n",
      "Set 2: {83, 84, 85}\n",
      "Updated Set 1: {83, 84, 85, 91, 92, 93}\n"
     ]
    }
   ],
   "source": [
    "set1 = {91, 92, 93}\n",
    "print(\"Set 1:\", set1)\n",
    "\n",
    "set2 = {83, 84, 85}\n",
    "print(\"Set 2:\", set2)\n",
    "\n",
    "set1.update(set2)\n",
    "print(\"Updated Set 1:\", set1)"
   ]
  },
  {
   "cell_type": "markdown",
   "id": "456adff4",
   "metadata": {},
   "source": [
    "Q21) Create a set of the first 5 prime numbers."
   ]
  },
  {
   "cell_type": "code",
   "execution_count": 281,
   "id": "e9d3e7a5",
   "metadata": {},
   "outputs": [
    {
     "name": "stdout",
     "output_type": "stream",
     "text": [
      "{2, 3, 5, 7}\n"
     ]
    }
   ],
   "source": [
    "set21 = print (set([i for i in range(2, 10) if 0 not in [i%n for n in range(2, i)]]))\n",
    "\n"
   ]
  },
  {
   "cell_type": "markdown",
   "id": "5e6c94e9",
   "metadata": {},
   "source": [
    "Q22) Check if two sets are identical."
   ]
  },
  {
   "cell_type": "code",
   "execution_count": 282,
   "id": "da7cdf75",
   "metadata": {},
   "outputs": [
    {
     "name": "stdout",
     "output_type": "stream",
     "text": [
      "Sets are not identical\n"
     ]
    }
   ],
   "source": [
    "set1 = {51,52,53,54,55}\n",
    "set2 = {52,53,54,55,56}\n",
    "\n",
    "if set1 == set2:\n",
    "    print(\"Both sets are identical\")\n",
    "else:\n",
    "    print(\"Sets are not identical\")\n"
   ]
  },
  {
   "cell_type": "markdown",
   "id": "c029d80d",
   "metadata": {},
   "source": [
    "Q23) Create a frozen set."
   ]
  },
  {
   "cell_type": "code",
   "execution_count": 285,
   "id": "64dcbeef",
   "metadata": {},
   "outputs": [
    {
     "name": "stdout",
     "output_type": "stream",
     "text": [
      "Frozen Set: frozenset({101, 102, 103, 104, 105})\n"
     ]
    }
   ],
   "source": [
    "\n",
    "elements = [101, 102, 103, 104, 105]\n",
    "\n",
    "my_frozen_set = frozenset(elements)\n",
    "\n",
    "print(\"Frozen Set:\", my_frozen_set)"
   ]
  },
  {
   "cell_type": "markdown",
   "id": "cc162577",
   "metadata": {},
   "source": [
    "Q24) Check if a set is disjoint with another set."
   ]
  },
  {
   "cell_type": "code",
   "execution_count": 286,
   "id": "bd9d865e",
   "metadata": {},
   "outputs": [
    {
     "name": "stdout",
     "output_type": "stream",
     "text": [
      "Are the sets disjoint? True\n"
     ]
    }
   ],
   "source": [
    "set1 = {1, 2, 3, 4}\n",
    "set2 = {5, 6, 7, 8}\n",
    "\n",
    "disjoint_status = set1.isdisjoint(set2)\n",
    "\n",
    "print(\"Are the sets disjoint?\", disjoint_status)"
   ]
  },
  {
   "cell_type": "markdown",
   "id": "83fa57f2",
   "metadata": {},
   "source": [
    "Q25) Create a set of squares of numbers from 1 to 5."
   ]
  },
  {
   "cell_type": "code",
   "execution_count": 307,
   "id": "5612f5c4",
   "metadata": {},
   "outputs": [
    {
     "name": "stdout",
     "output_type": "stream",
     "text": [
      "{1, 4, 9, 16, 25}\n"
     ]
    }
   ],
   "source": [
    "squares_set = set()\n",
    "\n",
    "for num in range(1, 6):\n",
    "    \n",
    "    square = num ** 2\n",
    "\n",
    "    squares_set.add(square)\n",
    "\n",
    "print(squares_set)"
   ]
  },
  {
   "cell_type": "markdown",
   "id": "773da55f",
   "metadata": {},
   "source": [
    "Q26) Filter out all even numbers from a set."
   ]
  },
  {
   "cell_type": "code",
   "execution_count": 311,
   "id": "5d055593",
   "metadata": {},
   "outputs": [
    {
     "name": "stdout",
     "output_type": "stream",
     "text": [
      "Even numbers in given list : {2, 4}\n"
     ]
    }
   ],
   "source": [
    "set26 = {1,2,3,4,5}\n",
    "new_set = set()\n",
    "\n",
    "for num in set26:\n",
    "    if num % 2 == 0:\n",
    "        new_set.add(num)\n",
    "print(\"Even numbers in given list :\",new_set)"
   ]
  },
  {
   "cell_type": "markdown",
   "id": "8651f0b8",
   "metadata": {},
   "source": [
    "Q27) Multiply all elements in a set by 2."
   ]
  },
  {
   "cell_type": "code",
   "execution_count": 314,
   "id": "722ded93",
   "metadata": {},
   "outputs": [
    {
     "name": "stdout",
     "output_type": "stream",
     "text": [
      "Original set : {2, 3, 4, 5, 7, 8, 9}\n",
      "Updated set : {4, 6, 8, 10, 14, 16, 18}\n"
     ]
    }
   ],
   "source": [
    "set27 = {9,5,3,4,8,2,7}\n",
    "print(\"Original set :\",set27)\n",
    "\n",
    "new_set = set([i*2 for i in set27])\n",
    "\n",
    "print(\"Updated set :\",new_set)"
   ]
  },
  {
   "cell_type": "markdown",
   "id": "2dfc1cad",
   "metadata": {},
   "source": [
    "Q28) Create a set of random numbers."
   ]
  },
  {
   "cell_type": "code",
   "execution_count": 316,
   "id": "828fca66",
   "metadata": {},
   "outputs": [
    {
     "name": "stdout",
     "output_type": "stream",
     "text": [
      "Generated set of random numbers: {46, 47, 14, 20, 28, 31}\n"
     ]
    }
   ],
   "source": [
    "import random\n",
    "\n",
    "num_random_numbers = 7\n",
    "\n",
    "random_number_set = set()\n",
    "\n",
    "for _ in range(num_random_numbers):\n",
    "\n",
    "    random_num = random.randint(1, 50)  \n",
    "    random_number_set.add(random_num)\n",
    "\n",
    "print(\"Generated set of random numbers:\", random_number_set)"
   ]
  },
  {
   "cell_type": "markdown",
   "id": "8ffd296c",
   "metadata": {},
   "source": [
    "Q29) Check if a set is empty."
   ]
  },
  {
   "cell_type": "code",
   "execution_count": 317,
   "id": "e984ddca",
   "metadata": {},
   "outputs": [
    {
     "name": "stdout",
     "output_type": "stream",
     "text": [
      "Given set is not empty\n"
     ]
    }
   ],
   "source": [
    "set29 = {1,2,3,4,5}\n",
    "\n",
    "if set29 == set():\n",
    "    print(\"Given set is empty\")\n",
    "else:\n",
    "    print(\"Given set is not empty\")"
   ]
  },
  {
   "cell_type": "markdown",
   "id": "0a2c4923",
   "metadata": {},
   "source": [
    "Q30) Create a nested set "
   ]
  },
  {
   "cell_type": "code",
   "execution_count": 318,
   "id": "845a885e",
   "metadata": {},
   "outputs": [
    {
     "name": "stdout",
     "output_type": "stream",
     "text": [
      "Nested Set: {frozenset({1, 2, 3, 4, 5}), frozenset({6, 7, 8, 9, 10})}\n"
     ]
    }
   ],
   "source": [
    "\n",
    "set1 = {1, 2, 3, 4, 5}\n",
    "set2 = {6, 7, 8, 9, 10}\n",
    "\n",
    "frozen_set1 = frozenset(set1)\n",
    "frozen_set2 = frozenset(set2)\n",
    "\n",
    "nested_set = {frozen_set1, frozen_set2}\n",
    "\n",
    "print(\"Nested Set:\", nested_set)"
   ]
  },
  {
   "cell_type": "markdown",
   "id": "791a1bbd",
   "metadata": {},
   "source": [
    "Q31) Remove an element from a set using the discard method."
   ]
  },
  {
   "cell_type": "code",
   "execution_count": 320,
   "id": "92847298",
   "metadata": {},
   "outputs": [
    {
     "name": "stdout",
     "output_type": "stream",
     "text": [
      "Originsl set : {1, 2, 3, 4, 5, 6, 25}\n",
      "Updated set: {1, 2, 3, 4, 5, 6}\n"
     ]
    }
   ],
   "source": [
    "set31 = {1,2,3,4,25,5,6}\n",
    "print (\"Originsl set :\",set31)\n",
    "rem_ele = 25\n",
    "\n",
    "set31.discard(rem_ele)\n",
    "print(\"Updated set:\",set31)"
   ]
  },
  {
   "cell_type": "markdown",
   "id": "4bcdaa12",
   "metadata": {},
   "source": [
    "Q32) Compare two sets."
   ]
  },
  {
   "cell_type": "code",
   "execution_count": 321,
   "id": "a72f3987",
   "metadata": {},
   "outputs": [
    {
     "name": "stdout",
     "output_type": "stream",
     "text": [
      "Set 1: {1, 2, 3, 4, 5}\n",
      "Set 2: {4, 5, 6, 7, 8}\n",
      "Is set1 a subset of set2? False\n",
      "Is set2 a subset of set1? False\n",
      "Intersection: {4, 5}\n",
      "Union: {1, 2, 3, 4, 5, 6, 7, 8}\n",
      "Elements in set1 but not in set2: {1, 2, 3}\n",
      "Elements in set2 but not in set1: {8, 6, 7}\n"
     ]
    }
   ],
   "source": [
    "set1 = {1, 2, 3, 4, 5}\n",
    "set2 = {4, 5, 6, 7, 8}\n",
    "\n",
    "is_subset = set1.issubset(set2)\n",
    "\n",
    "is_superset = set1.issuperset(set2)\n",
    "\n",
    "intersection = set1.intersection(set2)\n",
    "\n",
    "union = set1.union(set2)\n",
    "\n",
    "difference1 = set1.difference(set2)\n",
    "\n",
    "difference2 = set2.difference(set1)\n",
    "\n",
    "print(\"Set 1:\", set1)\n",
    "print(\"Set 2:\", set2)\n",
    "print(\"Is set1 a subset of set2?\", is_subset)\n",
    "print(\"Is set2 a subset of set1?\", is_superset)\n",
    "print(\"Intersection:\", intersection)\n",
    "print(\"Union:\", union)\n",
    "print(\"Elements in set1 but not in set2:\", difference1)\n",
    "print(\"Elements in set2 but not in set1:\", difference2)"
   ]
  },
  {
   "cell_type": "markdown",
   "id": "ce690172",
   "metadata": {},
   "source": [
    "Q33) Create a set from a string."
   ]
  },
  {
   "cell_type": "code",
   "execution_count": 322,
   "id": "b1a93fe4",
   "metadata": {},
   "outputs": [
    {
     "name": "stdout",
     "output_type": "stream",
     "text": [
      "{'y', 'p', 'o', 'n', 'h', 't'}\n"
     ]
    }
   ],
   "source": [
    "input_string = \"python\"\n",
    "\n",
    "char_set = set(input_string)\n",
    "\n",
    "print(char_set)"
   ]
  },
  {
   "cell_type": "markdown",
   "id": "882a64cd",
   "metadata": {},
   "source": [
    "Q34) Convert a set of strings to a set of integers."
   ]
  },
  {
   "cell_type": "code",
   "execution_count": 323,
   "id": "45e5177c",
   "metadata": {},
   "outputs": [
    {
     "name": "stdout",
     "output_type": "stream",
     "text": [
      "Original String Set: {'123', '789', '456'}\n",
      "Converted Integer Set: {456, 123, 789}\n"
     ]
    }
   ],
   "source": [
    "string_set = {\"123\", \"456\", \"789\"}\n",
    "integer_set = set()\n",
    "\n",
    "for string in string_set:\n",
    "    \n",
    "    integer_value = int(string)\n",
    "\n",
    "    integer_set.add(integer_value)\n",
    "\n",
    "print(\"Original String Set:\", string_set)\n",
    "print(\"Converted Integer Set:\", integer_set)"
   ]
  },
  {
   "cell_type": "markdown",
   "id": "ddc454a0",
   "metadata": {},
   "source": [
    "Q35) Convert a set of integers to a set of strings."
   ]
  },
  {
   "cell_type": "code",
   "execution_count": 325,
   "id": "71c933f1",
   "metadata": {},
   "outputs": [
    {
     "name": "stdout",
     "output_type": "stream",
     "text": [
      "Original integer Set: {456, 123, 789}\n",
      "Converted string Set: {'123', '789', '456'}\n"
     ]
    }
   ],
   "source": [
    "integer_set = {123, 456,789}\n",
    "string_set = set()\n",
    "\n",
    "for int in integer_set:\n",
    "    \n",
    "    string_value = str(int)\n",
    "\n",
    "    string_set.add(string_value)\n",
    "\n",
    "print(\"Original integer Set:\", integer_set)\n",
    "print(\"Converted string Set:\", string_set)"
   ]
  },
  {
   "cell_type": "markdown",
   "id": "f80560e3",
   "metadata": {},
   "source": [
    "Q36) Create a set from a tuple."
   ]
  },
  {
   "cell_type": "code",
   "execution_count": 328,
   "id": "985029a4",
   "metadata": {},
   "outputs": [
    {
     "name": "stdout",
     "output_type": "stream",
     "text": [
      "Before converting: (31, 32, 33, 34, 35)\n",
      "After converting : {32, 33, 34, 35, 31}\n"
     ]
    }
   ],
   "source": [
    "input_tuple = (31,32,33,34,35)\n",
    "print (\"Before converting:\",input_tuple)\n",
    "tuple_set = set(input_tuple)\n",
    "\n",
    "print(\"After converting :\",tuple_set)"
   ]
  },
  {
   "cell_type": "markdown",
   "id": "a4b7ae1a",
   "metadata": {},
   "source": [
    "Q37) Convert a set to a tuple."
   ]
  },
  {
   "cell_type": "code",
   "execution_count": 330,
   "id": "26342b68",
   "metadata": {},
   "outputs": [
    {
     "name": "stdout",
     "output_type": "stream",
     "text": [
      "Before converting: {32, 33, 34, 35, 31}\n",
      "After converting : (32, 33, 34, 35, 31)\n"
     ]
    }
   ],
   "source": [
    "input_set= {31,32,33,34,35}\n",
    "print (\"Before converting:\",input_set)\n",
    "set_tuple = tuple(input_set)\n",
    "\n",
    "print(\"After converting :\",set_tuple)"
   ]
  },
  {
   "cell_type": "markdown",
   "id": "d77d8458",
   "metadata": {},
   "source": [
    "Q38) Find the maximum value in a set."
   ]
  },
  {
   "cell_type": "code",
   "execution_count": 333,
   "id": "784a5f88",
   "metadata": {},
   "outputs": [
    {
     "name": "stdout",
     "output_type": "stream",
     "text": [
      "The original set : {96, 34, 84, 25, 10, 75, 15}\n",
      "The max value in the given set is : 96\n"
     ]
    }
   ],
   "source": [
    "set38 = {10,25,34,84,96,75,15}\n",
    "print (\"The original set :\",set38)\n",
    "\n",
    "result = (max(set38))\n",
    "print(\"The max value in the given set is :\",result)"
   ]
  },
  {
   "cell_type": "markdown",
   "id": "cce5a9c1",
   "metadata": {},
   "source": [
    "Q39) Find the minimum value in a set."
   ]
  },
  {
   "cell_type": "code",
   "execution_count": 335,
   "id": "3c510199",
   "metadata": {},
   "outputs": [
    {
     "name": "stdout",
     "output_type": "stream",
     "text": [
      "The original set : {96, 34, 84, 25, 10, 75, 15}\n",
      "The min value in the given set is : 10\n"
     ]
    }
   ],
   "source": [
    "set39 = {10,25,34,84,96,75,15}\n",
    "print (\"The original set :\",set39)\n",
    "\n",
    "result = (min(set39))\n",
    "print(\"The min value in the given set is :\",result)"
   ]
  },
  {
   "cell_type": "markdown",
   "id": "97558c59",
   "metadata": {},
   "source": [
    "Q40) Create a set from user input."
   ]
  },
  {
   "cell_type": "code",
   "execution_count": 338,
   "id": "0e92b1cd",
   "metadata": {},
   "outputs": [
    {
     "name": "stdout",
     "output_type": "stream",
     "text": [
      "Enter elements for the set :\n",
      "Final set: {'', 'python', 'language', 'is ', 'great '}\n"
     ]
    }
   ],
   "source": [
    "user_set = set()\n",
    "\n",
    "print(\"Enter elements for the set :\")\n",
    "while True:\n",
    "    user_input = input(\"> \") \n",
    "\n",
    "    if user_input.lower() == 'done':\n",
    "        break  \n",
    "\n",
    "    user_set.add(user_input)\n",
    "\n",
    "print(\"Final set:\", user_set)"
   ]
  },
  {
   "cell_type": "markdown",
   "id": "856707e2",
   "metadata": {},
   "source": [
    "Q41) Check if the intersection of two sets is empty."
   ]
  },
  {
   "cell_type": "code",
   "execution_count": 340,
   "id": "e03f3c24",
   "metadata": {},
   "outputs": [
    {
     "name": "stdout",
     "output_type": "stream",
     "text": [
      "The intersection of the two sets is empty.\n"
     ]
    }
   ],
   "source": [
    "set1 = {10,20, 30, 40, 50}\n",
    "set2 = {4, 5, 6, 7, 8}\n",
    "\n",
    "intersection_result = set1.intersection(set2)\n",
    "\n",
    "if not intersection_result:\n",
    "    print(\"The intersection of the two sets is empty.\")\n",
    "else:\n",
    "    print(\"The intersection of the two sets is not empty.\")"
   ]
  },
  {
   "cell_type": "markdown",
   "id": "cde2e407",
   "metadata": {},
   "source": [
    "Q42) Create a set of the first 5 Fibonacci numbers."
   ]
  },
  {
   "cell_type": "code",
   "execution_count": 341,
   "id": "07cf6c32",
   "metadata": {},
   "outputs": [
    {
     "name": "stdout",
     "output_type": "stream",
     "text": [
      "Set of the first 5 Fibonacci numbers: {0, 1, 2, 3, 5}\n"
     ]
    }
   ],
   "source": [
    "\n",
    "fibonacci_set = set()\n",
    "\n",
    "a, b = 0, 1\n",
    "\n",
    "for _ in range(6):\n",
    "    \n",
    "    fibonacci_set.add(a)\n",
    "\n",
    "    a, b = b, a + b\n",
    "\n",
    "print(\"Set of the first 5 Fibonacci numbers:\", fibonacci_set)"
   ]
  },
  {
   "cell_type": "markdown",
   "id": "6a20873c",
   "metadata": {},
   "source": [
    "Q43) Remove duplicates from a list using sets."
   ]
  },
  {
   "cell_type": "code",
   "execution_count": 343,
   "id": "cbd5a39c",
   "metadata": {},
   "outputs": [
    {
     "name": "stdout",
     "output_type": "stream",
     "text": [
      "Original List: [2, 4, 6, 8, 1, 5, 9, 4, 10, 6, 12, 14, 8]\n",
      "List with Duplicates Removed: [1, 2, 4, 5, 6, 8, 9, 10, 12, 14]\n"
     ]
    }
   ],
   "source": [
    "original_list = [2, 4, 6, 8, 1, 5, 9, 4, 10, 6, 12, 14, 8]\n",
    "\n",
    "unique_set = set(original_list)\n",
    "\n",
    "unique_list = list(unique_set)\n",
    "\n",
    "print(\"Original List:\", original_list)\n",
    "print(\"List with Duplicates Removed:\", unique_list)"
   ]
  },
  {
   "cell_type": "markdown",
   "id": "fdf330ea",
   "metadata": {},
   "source": [
    "Q44) Check if two sets have the same elements, regardless of their count."
   ]
  },
  {
   "cell_type": "code",
   "execution_count": 345,
   "id": "d6959916",
   "metadata": {},
   "outputs": [
    {
     "name": "stdout",
     "output_type": "stream",
     "text": [
      "The sets have the same elements.\n"
     ]
    }
   ],
   "source": [
    "def have_same_elements(set1, set2):\n",
    "    \n",
    "    sorted_list1 = sorted(list(set1))\n",
    "    sorted_list2 = sorted(list(set2))\n",
    "\n",
    "    return sorted_list1 == sorted_list2\n",
    "\n",
    "set1 = {10, 20, 30, 20, 10}\n",
    "set2 = {30, 10, 20}\n",
    "\n",
    "result = have_same_elements(set1, set2)\n",
    "\n",
    "if result:\n",
    "    print(\"The sets have the same elements.\")\n",
    "else:\n",
    "    print(\"The sets do not have the same elements.\")"
   ]
  },
  {
   "cell_type": "markdown",
   "id": "3782202b",
   "metadata": {},
   "source": [
    "Q45) Create a set of the first `n` powers of 2."
   ]
  },
  {
   "cell_type": "code",
   "execution_count": 348,
   "id": "6e0091d5",
   "metadata": {},
   "outputs": [
    {
     "name": "stdout",
     "output_type": "stream",
     "text": [
      "{32, 1, 2, 64, 4, 8, 16}\n"
     ]
    }
   ],
   "source": [
    "def generate_powers_of_2(n):\n",
    "\n",
    "    powers_of_2 = set()\n",
    "\n",
    "    for i in range(n):\n",
    "        \n",
    "        power = 2 ** i\n",
    "\n",
    "        powers_of_2.add(power)\n",
    "\n",
    "    return powers_of_2\n",
    "\n",
    "n = 7\n",
    "\n",
    "powers_set = generate_powers_of_2(n)\n",
    "\n",
    "print(powers_set)"
   ]
  },
  {
   "cell_type": "markdown",
   "id": "c6788c82",
   "metadata": {},
   "source": [
    "Q46) Find the common elements between a set and a list."
   ]
  },
  {
   "cell_type": "code",
   "execution_count": 349,
   "id": "588e4323",
   "metadata": {},
   "outputs": [
    {
     "name": "stdout",
     "output_type": "stream",
     "text": [
      "Common elements: [7, 9, 12]\n"
     ]
    }
   ],
   "source": [
    "my_set = {3, 7, 9, 12, 15}\n",
    "my_list = [7, 12, 5, 9]\n",
    "\n",
    "list_to_set = set(my_list)\n",
    "\n",
    "common_elements = []\n",
    "\n",
    "for element in my_set:\n",
    "    \n",
    "    if element in list_to_set:\n",
    "         \n",
    "        common_elements.append(element)\n",
    "\n",
    "print(\"Common elements:\", common_elements)"
   ]
  },
  {
   "cell_type": "markdown",
   "id": "882cc86b",
   "metadata": {},
   "source": [
    "Q47) Create a set of the first `n` triangular numbers."
   ]
  },
  {
   "cell_type": "code",
   "execution_count": 354,
   "id": "b5942a5e",
   "metadata": {},
   "outputs": [
    {
     "name": "stdout",
     "output_type": "stream",
     "text": [
      "set of the first 5 triangular numbers: {1, 3, 6, 10, 15}\n"
     ]
    }
   ],
   "source": [
    "def triangular_numbers(n):\n",
    "    return [i * (i + 1) // 2 for i in range(1, n + 1)]\n",
    "\n",
    "n = 5\n",
    "\n",
    "triangular_set = set(triangular_numbers(n))\n",
    "\n",
    "print(\"set of the first\", n, \"triangular numbers:\", triangular_set)"
   ]
  },
  {
   "cell_type": "markdown",
   "id": "53cf7f1f",
   "metadata": {},
   "source": [
    "Q48) Check if a set contains another set as a subset."
   ]
  },
  {
   "cell_type": "code",
   "execution_count": 355,
   "id": "cb8ffcec",
   "metadata": {},
   "outputs": [
    {
     "name": "stdout",
     "output_type": "stream",
     "text": [
      "set2 is a subset of set1\n"
     ]
    }
   ],
   "source": [
    "set1 = {11, 12, 13, 14, 15}\n",
    "set2 = {13, 14}\n",
    "\n",
    "is_subset = set2.issubset(set1)\n",
    "\n",
    "if is_subset:\n",
    "    print(\"set2 is a subset of set1\")\n",
    "else:\n",
    "    print(\"set2 is not a subset of set1\")"
   ]
  },
  {
   "cell_type": "markdown",
   "id": "2189d363",
   "metadata": {},
   "source": [
    "Q49) Create a set of alternating 1s and 0s of length `n`."
   ]
  },
  {
   "cell_type": "code",
   "execution_count": 357,
   "id": "7dc3b2cd",
   "metadata": {},
   "outputs": [
    {
     "name": "stdout",
     "output_type": "stream",
     "text": [
      "{0, 1}\n"
     ]
    }
   ],
   "source": [
    "def create_alternating_set(n):\n",
    "    \n",
    "    alternating_set = set()\n",
    "\n",
    "    for i in range(n):\n",
    "        \n",
    "        if i % 2 == 0:\n",
    "            alternating_set.add(1)  \n",
    "        else:\n",
    "            alternating_set.add(0)\n",
    "\n",
    "    return alternating_set\n",
    "\n",
    "\n",
    "length_n = 20\n",
    "\n",
    "result = create_alternating_set(length_n)\n",
    "\n",
    "print(result)"
   ]
  },
  {
   "cell_type": "markdown",
   "id": "9d34cece",
   "metadata": {},
   "source": [
    "Q50) Merge multiple sets into one."
   ]
  },
  {
   "cell_type": "code",
   "execution_count": 358,
   "id": "bae01e12",
   "metadata": {},
   "outputs": [
    {
     "name": "stdout",
     "output_type": "stream",
     "text": [
      "Merged Set: {3, 4, 5, 11, 12, 13, 25, 26, 27}\n"
     ]
    }
   ],
   "source": [
    "set1 = {11, 12, 13}\n",
    "set2 = {3, 4, 5}\n",
    "set3 = {25, 26, 27}\n",
    "\n",
    "merged_set = set1.union(set2, set3)\n",
    "\n",
    "print(\"Merged Set:\", merged_set)"
   ]
  }
 ],
 "metadata": {
  "kernelspec": {
   "display_name": "Python 3 (ipykernel)",
   "language": "python",
   "name": "python3"
  },
  "language_info": {
   "codemirror_mode": {
    "name": "ipython",
    "version": 3
   },
   "file_extension": ".py",
   "mimetype": "text/x-python",
   "name": "python",
   "nbconvert_exporter": "python",
   "pygments_lexer": "ipython3",
   "version": "3.11.5"
  }
 },
 "nbformat": 4,
 "nbformat_minor": 5
}
